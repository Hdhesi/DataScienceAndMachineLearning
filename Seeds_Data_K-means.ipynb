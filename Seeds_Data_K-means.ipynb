{
 "cells": [
  {
   "cell_type": "markdown",
   "id": "de2b2f31",
   "metadata": {},
   "source": [
    "# Assignment 1 - Implementing k-means Clustering\n",
    "\n",
    "**Harjidnder Singh Dhesi**\n",
    "_0371098_\n",
    "\n",
    "**Unsupervised Machine Learning**"
   ]
  },
  {
   "cell_type": "code",
   "execution_count": 1,
   "id": "d6adb1b6",
   "metadata": {},
   "outputs": [],
   "source": [
    "# importing necessary libraries\n",
    "\n",
    "import pandas as pd\n",
    "import numpy as np\n",
    "import math\n",
    "import matplotlib.pyplot as plt\n",
    "from sklearn.metrics import silhouette_score\n",
    "from scipy.spatial.distance import cdist\n",
    "np.random.seed(0)"
   ]
  },
  {
   "cell_type": "code",
   "execution_count": 2,
   "id": "217f7b98",
   "metadata": {},
   "outputs": [],
   "source": [
    "# reading a csv file data into a pandas dataframe - seeds\n",
    "\n",
    "seeds = pd.read_csv(\"Seed_Data.csv\")"
   ]
  },
  {
   "cell_type": "code",
   "execution_count": 3,
   "id": "d24e061a",
   "metadata": {},
   "outputs": [
    {
     "data": {
      "text/html": [
       "<div>\n",
       "<style scoped>\n",
       "    .dataframe tbody tr th:only-of-type {\n",
       "        vertical-align: middle;\n",
       "    }\n",
       "\n",
       "    .dataframe tbody tr th {\n",
       "        vertical-align: top;\n",
       "    }\n",
       "\n",
       "    .dataframe thead th {\n",
       "        text-align: right;\n",
       "    }\n",
       "</style>\n",
       "<table border=\"1\" class=\"dataframe\">\n",
       "  <thead>\n",
       "    <tr style=\"text-align: right;\">\n",
       "      <th></th>\n",
       "      <th>A</th>\n",
       "      <th>P</th>\n",
       "      <th>C</th>\n",
       "      <th>LK</th>\n",
       "      <th>WK</th>\n",
       "      <th>A_Coef</th>\n",
       "      <th>LKG</th>\n",
       "      <th>target</th>\n",
       "    </tr>\n",
       "  </thead>\n",
       "  <tbody>\n",
       "    <tr>\n",
       "      <th>0</th>\n",
       "      <td>15.26</td>\n",
       "      <td>14.84</td>\n",
       "      <td>0.8710</td>\n",
       "      <td>5.763</td>\n",
       "      <td>3.312</td>\n",
       "      <td>2.221</td>\n",
       "      <td>5.220</td>\n",
       "      <td>0</td>\n",
       "    </tr>\n",
       "    <tr>\n",
       "      <th>1</th>\n",
       "      <td>14.88</td>\n",
       "      <td>14.57</td>\n",
       "      <td>0.8811</td>\n",
       "      <td>5.554</td>\n",
       "      <td>3.333</td>\n",
       "      <td>1.018</td>\n",
       "      <td>4.956</td>\n",
       "      <td>0</td>\n",
       "    </tr>\n",
       "    <tr>\n",
       "      <th>2</th>\n",
       "      <td>14.29</td>\n",
       "      <td>14.09</td>\n",
       "      <td>0.9050</td>\n",
       "      <td>5.291</td>\n",
       "      <td>3.337</td>\n",
       "      <td>2.699</td>\n",
       "      <td>4.825</td>\n",
       "      <td>0</td>\n",
       "    </tr>\n",
       "    <tr>\n",
       "      <th>3</th>\n",
       "      <td>13.84</td>\n",
       "      <td>13.94</td>\n",
       "      <td>0.8955</td>\n",
       "      <td>5.324</td>\n",
       "      <td>3.379</td>\n",
       "      <td>2.259</td>\n",
       "      <td>4.805</td>\n",
       "      <td>0</td>\n",
       "    </tr>\n",
       "    <tr>\n",
       "      <th>4</th>\n",
       "      <td>16.14</td>\n",
       "      <td>14.99</td>\n",
       "      <td>0.9034</td>\n",
       "      <td>5.658</td>\n",
       "      <td>3.562</td>\n",
       "      <td>1.355</td>\n",
       "      <td>5.175</td>\n",
       "      <td>0</td>\n",
       "    </tr>\n",
       "    <tr>\n",
       "      <th>...</th>\n",
       "      <td>...</td>\n",
       "      <td>...</td>\n",
       "      <td>...</td>\n",
       "      <td>...</td>\n",
       "      <td>...</td>\n",
       "      <td>...</td>\n",
       "      <td>...</td>\n",
       "      <td>...</td>\n",
       "    </tr>\n",
       "    <tr>\n",
       "      <th>205</th>\n",
       "      <td>12.19</td>\n",
       "      <td>13.20</td>\n",
       "      <td>0.8783</td>\n",
       "      <td>5.137</td>\n",
       "      <td>2.981</td>\n",
       "      <td>3.631</td>\n",
       "      <td>4.870</td>\n",
       "      <td>2</td>\n",
       "    </tr>\n",
       "    <tr>\n",
       "      <th>206</th>\n",
       "      <td>11.23</td>\n",
       "      <td>12.88</td>\n",
       "      <td>0.8511</td>\n",
       "      <td>5.140</td>\n",
       "      <td>2.795</td>\n",
       "      <td>4.325</td>\n",
       "      <td>5.003</td>\n",
       "      <td>2</td>\n",
       "    </tr>\n",
       "    <tr>\n",
       "      <th>207</th>\n",
       "      <td>13.20</td>\n",
       "      <td>13.66</td>\n",
       "      <td>0.8883</td>\n",
       "      <td>5.236</td>\n",
       "      <td>3.232</td>\n",
       "      <td>8.315</td>\n",
       "      <td>5.056</td>\n",
       "      <td>2</td>\n",
       "    </tr>\n",
       "    <tr>\n",
       "      <th>208</th>\n",
       "      <td>11.84</td>\n",
       "      <td>13.21</td>\n",
       "      <td>0.8521</td>\n",
       "      <td>5.175</td>\n",
       "      <td>2.836</td>\n",
       "      <td>3.598</td>\n",
       "      <td>5.044</td>\n",
       "      <td>2</td>\n",
       "    </tr>\n",
       "    <tr>\n",
       "      <th>209</th>\n",
       "      <td>12.30</td>\n",
       "      <td>13.34</td>\n",
       "      <td>0.8684</td>\n",
       "      <td>5.243</td>\n",
       "      <td>2.974</td>\n",
       "      <td>5.637</td>\n",
       "      <td>5.063</td>\n",
       "      <td>2</td>\n",
       "    </tr>\n",
       "  </tbody>\n",
       "</table>\n",
       "<p>210 rows × 8 columns</p>\n",
       "</div>"
      ],
      "text/plain": [
       "         A      P       C     LK     WK  A_Coef    LKG  target\n",
       "0    15.26  14.84  0.8710  5.763  3.312   2.221  5.220       0\n",
       "1    14.88  14.57  0.8811  5.554  3.333   1.018  4.956       0\n",
       "2    14.29  14.09  0.9050  5.291  3.337   2.699  4.825       0\n",
       "3    13.84  13.94  0.8955  5.324  3.379   2.259  4.805       0\n",
       "4    16.14  14.99  0.9034  5.658  3.562   1.355  5.175       0\n",
       "..     ...    ...     ...    ...    ...     ...    ...     ...\n",
       "205  12.19  13.20  0.8783  5.137  2.981   3.631  4.870       2\n",
       "206  11.23  12.88  0.8511  5.140  2.795   4.325  5.003       2\n",
       "207  13.20  13.66  0.8883  5.236  3.232   8.315  5.056       2\n",
       "208  11.84  13.21  0.8521  5.175  2.836   3.598  5.044       2\n",
       "209  12.30  13.34  0.8684  5.243  2.974   5.637  5.063       2\n",
       "\n",
       "[210 rows x 8 columns]"
      ]
     },
     "execution_count": 3,
     "metadata": {},
     "output_type": "execute_result"
    }
   ],
   "source": [
    "# viewing the seeds dataframe\n",
    "\n",
    "seeds"
   ]
  },
  {
   "cell_type": "markdown",
   "id": "b7588fd9",
   "metadata": {},
   "source": [
    "The **features** in the data are as follows - \n",
    "\n",
    "area (A)\n",
    "\n",
    "perimeter (P)\n",
    "\n",
    "compactness (C)\n",
    "\n",
    "length of kernel (LK)\n",
    "\n",
    "width of kernel (WK)\n",
    "\n",
    "asymmetry coefficient (A_Coef)\n",
    "\n",
    "length of kernel groove (LKG)\n",
    "\n",
    "The **label** field is - \n",
    "\n",
    "target"
   ]
  },
  {
   "cell_type": "code",
   "execution_count": 4,
   "id": "fc9539b8",
   "metadata": {},
   "outputs": [
    {
     "data": {
      "text/html": [
       "<div>\n",
       "<style scoped>\n",
       "    .dataframe tbody tr th:only-of-type {\n",
       "        vertical-align: middle;\n",
       "    }\n",
       "\n",
       "    .dataframe tbody tr th {\n",
       "        vertical-align: top;\n",
       "    }\n",
       "\n",
       "    .dataframe thead th {\n",
       "        text-align: right;\n",
       "    }\n",
       "</style>\n",
       "<table border=\"1\" class=\"dataframe\">\n",
       "  <thead>\n",
       "    <tr style=\"text-align: right;\">\n",
       "      <th></th>\n",
       "      <th>A</th>\n",
       "      <th>P</th>\n",
       "      <th>C</th>\n",
       "      <th>LK</th>\n",
       "      <th>WK</th>\n",
       "      <th>A_Coef</th>\n",
       "      <th>LKG</th>\n",
       "      <th>target</th>\n",
       "    </tr>\n",
       "  </thead>\n",
       "  <tbody>\n",
       "    <tr>\n",
       "      <th>count</th>\n",
       "      <td>210.000000</td>\n",
       "      <td>210.000000</td>\n",
       "      <td>210.000000</td>\n",
       "      <td>210.000000</td>\n",
       "      <td>210.000000</td>\n",
       "      <td>210.000000</td>\n",
       "      <td>210.000000</td>\n",
       "      <td>210.000000</td>\n",
       "    </tr>\n",
       "    <tr>\n",
       "      <th>mean</th>\n",
       "      <td>14.847524</td>\n",
       "      <td>14.559286</td>\n",
       "      <td>0.870999</td>\n",
       "      <td>5.628533</td>\n",
       "      <td>3.258605</td>\n",
       "      <td>3.700201</td>\n",
       "      <td>5.408071</td>\n",
       "      <td>1.000000</td>\n",
       "    </tr>\n",
       "    <tr>\n",
       "      <th>std</th>\n",
       "      <td>2.909699</td>\n",
       "      <td>1.305959</td>\n",
       "      <td>0.023629</td>\n",
       "      <td>0.443063</td>\n",
       "      <td>0.377714</td>\n",
       "      <td>1.503557</td>\n",
       "      <td>0.491480</td>\n",
       "      <td>0.818448</td>\n",
       "    </tr>\n",
       "    <tr>\n",
       "      <th>min</th>\n",
       "      <td>10.590000</td>\n",
       "      <td>12.410000</td>\n",
       "      <td>0.808100</td>\n",
       "      <td>4.899000</td>\n",
       "      <td>2.630000</td>\n",
       "      <td>0.765100</td>\n",
       "      <td>4.519000</td>\n",
       "      <td>0.000000</td>\n",
       "    </tr>\n",
       "    <tr>\n",
       "      <th>25%</th>\n",
       "      <td>12.270000</td>\n",
       "      <td>13.450000</td>\n",
       "      <td>0.856900</td>\n",
       "      <td>5.262250</td>\n",
       "      <td>2.944000</td>\n",
       "      <td>2.561500</td>\n",
       "      <td>5.045000</td>\n",
       "      <td>0.000000</td>\n",
       "    </tr>\n",
       "    <tr>\n",
       "      <th>50%</th>\n",
       "      <td>14.355000</td>\n",
       "      <td>14.320000</td>\n",
       "      <td>0.873450</td>\n",
       "      <td>5.523500</td>\n",
       "      <td>3.237000</td>\n",
       "      <td>3.599000</td>\n",
       "      <td>5.223000</td>\n",
       "      <td>1.000000</td>\n",
       "    </tr>\n",
       "    <tr>\n",
       "      <th>75%</th>\n",
       "      <td>17.305000</td>\n",
       "      <td>15.715000</td>\n",
       "      <td>0.887775</td>\n",
       "      <td>5.979750</td>\n",
       "      <td>3.561750</td>\n",
       "      <td>4.768750</td>\n",
       "      <td>5.877000</td>\n",
       "      <td>2.000000</td>\n",
       "    </tr>\n",
       "    <tr>\n",
       "      <th>max</th>\n",
       "      <td>21.180000</td>\n",
       "      <td>17.250000</td>\n",
       "      <td>0.918300</td>\n",
       "      <td>6.675000</td>\n",
       "      <td>4.033000</td>\n",
       "      <td>8.456000</td>\n",
       "      <td>6.550000</td>\n",
       "      <td>2.000000</td>\n",
       "    </tr>\n",
       "  </tbody>\n",
       "</table>\n",
       "</div>"
      ],
      "text/plain": [
       "                A           P           C          LK          WK      A_Coef  \\\n",
       "count  210.000000  210.000000  210.000000  210.000000  210.000000  210.000000   \n",
       "mean    14.847524   14.559286    0.870999    5.628533    3.258605    3.700201   \n",
       "std      2.909699    1.305959    0.023629    0.443063    0.377714    1.503557   \n",
       "min     10.590000   12.410000    0.808100    4.899000    2.630000    0.765100   \n",
       "25%     12.270000   13.450000    0.856900    5.262250    2.944000    2.561500   \n",
       "50%     14.355000   14.320000    0.873450    5.523500    3.237000    3.599000   \n",
       "75%     17.305000   15.715000    0.887775    5.979750    3.561750    4.768750   \n",
       "max     21.180000   17.250000    0.918300    6.675000    4.033000    8.456000   \n",
       "\n",
       "              LKG      target  \n",
       "count  210.000000  210.000000  \n",
       "mean     5.408071    1.000000  \n",
       "std      0.491480    0.818448  \n",
       "min      4.519000    0.000000  \n",
       "25%      5.045000    0.000000  \n",
       "50%      5.223000    1.000000  \n",
       "75%      5.877000    2.000000  \n",
       "max      6.550000    2.000000  "
      ]
     },
     "execution_count": 4,
     "metadata": {},
     "output_type": "execute_result"
    }
   ],
   "source": [
    "# viewing the summary of the data including count, min, max, mean, etc.\n",
    "\n",
    "seeds.describe()"
   ]
  },
  {
   "cell_type": "code",
   "execution_count": 5,
   "id": "b85450d7",
   "metadata": {},
   "outputs": [
    {
     "data": {
      "text/plain": [
       "A         0\n",
       "P         0\n",
       "C         0\n",
       "LK        0\n",
       "WK        0\n",
       "A_Coef    0\n",
       "LKG       0\n",
       "target    0\n",
       "dtype: int64"
      ]
     },
     "execution_count": 5,
     "metadata": {},
     "output_type": "execute_result"
    }
   ],
   "source": [
    "# checking if the data has any null values\n",
    "\n",
    "seeds.isnull().sum()"
   ]
  },
  {
   "cell_type": "code",
   "execution_count": 6,
   "id": "7c167ad0",
   "metadata": {},
   "outputs": [],
   "source": [
    "# a dataframe without the label field or the classes (target) \n",
    "\n",
    "X = seeds[['A','P','C','LK','WK','A_Coef','LKG']]\n",
    "\n",
    "# storing labels in a separate dataframe\n",
    "\n",
    "y = seeds['target']"
   ]
  },
  {
   "cell_type": "code",
   "execution_count": 7,
   "id": "07f69b3d",
   "metadata": {},
   "outputs": [
    {
     "data": {
      "text/html": [
       "<div>\n",
       "<style scoped>\n",
       "    .dataframe tbody tr th:only-of-type {\n",
       "        vertical-align: middle;\n",
       "    }\n",
       "\n",
       "    .dataframe tbody tr th {\n",
       "        vertical-align: top;\n",
       "    }\n",
       "\n",
       "    .dataframe thead th {\n",
       "        text-align: right;\n",
       "    }\n",
       "</style>\n",
       "<table border=\"1\" class=\"dataframe\">\n",
       "  <thead>\n",
       "    <tr style=\"text-align: right;\">\n",
       "      <th></th>\n",
       "      <th>A</th>\n",
       "      <th>P</th>\n",
       "      <th>C</th>\n",
       "      <th>LK</th>\n",
       "      <th>WK</th>\n",
       "      <th>A_Coef</th>\n",
       "      <th>LKG</th>\n",
       "    </tr>\n",
       "  </thead>\n",
       "  <tbody>\n",
       "    <tr>\n",
       "      <th>0</th>\n",
       "      <td>15.26</td>\n",
       "      <td>14.84</td>\n",
       "      <td>0.8710</td>\n",
       "      <td>5.763</td>\n",
       "      <td>3.312</td>\n",
       "      <td>2.221</td>\n",
       "      <td>5.220</td>\n",
       "    </tr>\n",
       "    <tr>\n",
       "      <th>1</th>\n",
       "      <td>14.88</td>\n",
       "      <td>14.57</td>\n",
       "      <td>0.8811</td>\n",
       "      <td>5.554</td>\n",
       "      <td>3.333</td>\n",
       "      <td>1.018</td>\n",
       "      <td>4.956</td>\n",
       "    </tr>\n",
       "    <tr>\n",
       "      <th>2</th>\n",
       "      <td>14.29</td>\n",
       "      <td>14.09</td>\n",
       "      <td>0.9050</td>\n",
       "      <td>5.291</td>\n",
       "      <td>3.337</td>\n",
       "      <td>2.699</td>\n",
       "      <td>4.825</td>\n",
       "    </tr>\n",
       "    <tr>\n",
       "      <th>3</th>\n",
       "      <td>13.84</td>\n",
       "      <td>13.94</td>\n",
       "      <td>0.8955</td>\n",
       "      <td>5.324</td>\n",
       "      <td>3.379</td>\n",
       "      <td>2.259</td>\n",
       "      <td>4.805</td>\n",
       "    </tr>\n",
       "    <tr>\n",
       "      <th>4</th>\n",
       "      <td>16.14</td>\n",
       "      <td>14.99</td>\n",
       "      <td>0.9034</td>\n",
       "      <td>5.658</td>\n",
       "      <td>3.562</td>\n",
       "      <td>1.355</td>\n",
       "      <td>5.175</td>\n",
       "    </tr>\n",
       "  </tbody>\n",
       "</table>\n",
       "</div>"
      ],
      "text/plain": [
       "       A      P       C     LK     WK  A_Coef    LKG\n",
       "0  15.26  14.84  0.8710  5.763  3.312   2.221  5.220\n",
       "1  14.88  14.57  0.8811  5.554  3.333   1.018  4.956\n",
       "2  14.29  14.09  0.9050  5.291  3.337   2.699  4.825\n",
       "3  13.84  13.94  0.8955  5.324  3.379   2.259  4.805\n",
       "4  16.14  14.99  0.9034  5.658  3.562   1.355  5.175"
      ]
     },
     "execution_count": 7,
     "metadata": {},
     "output_type": "execute_result"
    }
   ],
   "source": [
    "X.head()"
   ]
  },
  {
   "cell_type": "code",
   "execution_count": 8,
   "id": "e1622d09",
   "metadata": {},
   "outputs": [
    {
     "data": {
      "text/plain": [
       "0      0\n",
       "1      0\n",
       "2      0\n",
       "3      0\n",
       "4      0\n",
       "      ..\n",
       "205    2\n",
       "206    2\n",
       "207    2\n",
       "208    2\n",
       "209    2\n",
       "Name: target, Length: 210, dtype: int64"
      ]
     },
     "execution_count": 8,
     "metadata": {},
     "output_type": "execute_result"
    }
   ],
   "source": [
    "y"
   ]
  },
  {
   "cell_type": "code",
   "execution_count": 9,
   "id": "28c6d07d",
   "metadata": {},
   "outputs": [],
   "source": [
    "# Convert Pandas dataframe to NumPy matrix\n",
    "\n",
    "X_mat = X.values"
   ]
  },
  {
   "cell_type": "markdown",
   "id": "5b32a292",
   "metadata": {},
   "source": [
    "### Customised function of Euclidean Distance formula "
   ]
  },
  {
   "cell_type": "code",
   "execution_count": 10,
   "id": "c4f09d45",
   "metadata": {},
   "outputs": [],
   "source": [
    "# function that calculates distance between two coordinates based on Euclidean distance formula \n",
    "\n",
    "def eqld_dist(a, b):\n",
    "    sum_sqrd = 0 \n",
    "    for i in range(len(a)):\n",
    "        sum_sqrd += math.pow(a[i]-b[i],2)\n",
    "    dist = math.sqrt(sum_sqrd)\n",
    "    return dist"
   ]
  },
  {
   "cell_type": "code",
   "execution_count": 11,
   "id": "f1fb1095",
   "metadata": {},
   "outputs": [
    {
     "name": "stdout",
     "output_type": "stream",
     "text": [
      "euclidean distance: 1.3335775230559335\n"
     ]
    }
   ],
   "source": [
    "# distance between first two coordinates from the seeds data using above function\n",
    "\n",
    "print(\"euclidean distance:\", eqld_dist(X_mat[0], X_mat[1]))"
   ]
  },
  {
   "cell_type": "markdown",
   "id": "64d1fbf8",
   "metadata": {},
   "source": [
    "### Customised function of Manhattan Distance formula "
   ]
  },
  {
   "cell_type": "code",
   "execution_count": 12,
   "id": "89f843a6",
   "metadata": {},
   "outputs": [],
   "source": [
    "# function that calculates distance between two coordinates based on Manhattan distance formula \n",
    "\n",
    "def mnhtn_dist(a, b):\n",
    "    dist = 0\n",
    "    for i in range(len(a)):\n",
    "        dist += abs(a[i]-b[i])\n",
    "    return dist"
   ]
  },
  {
   "cell_type": "code",
   "execution_count": 13,
   "id": "a21b6176",
   "metadata": {},
   "outputs": [
    {
     "name": "stdout",
     "output_type": "stream",
     "text": [
      "manhattan distance: 2.357099999999998\n"
     ]
    }
   ],
   "source": [
    "# distance between first two coordinates from the seeds data using above function\n",
    "\n",
    "print(\"manhattan distance:\", mnhtn_dist(X_mat[0], X_mat[1]))"
   ]
  },
  {
   "cell_type": "markdown",
   "id": "bb5fe001",
   "metadata": {
    "scrolled": true
   },
   "source": [
    "### Distance using \"cdist\" function from numpy"
   ]
  },
  {
   "cell_type": "code",
   "execution_count": 14,
   "id": "18646eae",
   "metadata": {},
   "outputs": [],
   "source": [
    "# a function that uses cdist and a distance metric to find the distance between a data point and centroids\n",
    "# Choice of distance metric -  Euclidean\n",
    "\n",
    "def cdist_dist(X, centroids):\n",
    "    for x in X:\n",
    "        calcs = cdist(x.reshape([1,-1]), centroids, metric = 'euclidean').squeeze()\n",
    "        print(calcs, \"Cluster Membership: \", np.argmin(calcs))"
   ]
  },
  {
   "cell_type": "code",
   "execution_count": 15,
   "id": "6caa218a",
   "metadata": {},
   "outputs": [],
   "source": [
    "# cdist_dist(X_mat, centroids)"
   ]
  },
  {
   "cell_type": "code",
   "execution_count": 16,
   "id": "32298814",
   "metadata": {},
   "outputs": [],
   "source": [
    "# a function that uses cdist and a distance metric to find the distance between a data point and centroids\n",
    "# Choice of distance metric -  Cityblock (Manhattan)\n",
    "\n",
    "def cdist_dist(X, centroids):\n",
    "    for x in X:\n",
    "        calcs = cdist(x.reshape([1,-1]), centroids, metric = 'cityblock').squeeze()\n",
    "        print(calcs, \"Cluster Membership: \", np.argmin(calcs))"
   ]
  },
  {
   "cell_type": "markdown",
   "id": "cdc081d5",
   "metadata": {},
   "source": [
    "## K-means algorithm\n",
    "\n",
    "**using Euclidean Distance Metric**"
   ]
  },
  {
   "cell_type": "code",
   "execution_count": 17,
   "id": "93fe1425",
   "metadata": {},
   "outputs": [],
   "source": [
    "# k-means function whih takes the dataset and the number of centroids (K) as parameters \n",
    "# Choice of Distance metric - Euclidean\n",
    "\n",
    "def k_means(X, K):\n",
    "    # Keep track of history to see K-Means in action\n",
    "    centroids_history = []\n",
    "    labels_history = []\n",
    "    \n",
    "    # Randomly initializing K centroids\n",
    "    rand_index = np.random.choice(X.shape[0], K)  \n",
    "    centroids = X[rand_index]\n",
    "    centroids_history.append(centroids)\n",
    "    \n",
    "    # While loop repeats process until difference between new/old centroids = 0 \n",
    "    while True:\n",
    "        # Euclidean distances are calculated for each point relative to centroids, and then np.argmin returns\n",
    "        # the index location of the minimal distance - which cluster a point is assigned to\n",
    "        labels = np.argmin(cdist(X, centroids, metric = 'euclidean'), axis=1)\n",
    "        labels_history.append(labels)\n",
    "        \n",
    "        # Take mean of points within clusters to find new centroids\n",
    "        new_centroids = np.array([X[labels == i].mean(axis=0) for i in range(K)])\n",
    "        centroids_history.append(new_centroids)\n",
    "        \n",
    "        # If old centroids and new centroids no longer change, K-Means is complete and end. Otherwise continue...\n",
    "        if np.all(centroids == new_centroids):\n",
    "            break\n",
    "        centroids = new_centroids\n",
    "    \n",
    "    return centroids, labels, centroids_history, labels_history"
   ]
  },
  {
   "cell_type": "code",
   "execution_count": 18,
   "id": "e15ea08f",
   "metadata": {},
   "outputs": [],
   "source": [
    "# the k_means function we created earlier applied on our X_mat matrix (formed from the seeds data) with 3 centroids\n",
    "\n",
    "centroids, labels, centroids_history, labels_history = k_means(X_mat, 3)"
   ]
  },
  {
   "cell_type": "code",
   "execution_count": 19,
   "id": "6add8940",
   "metadata": {},
   "outputs": [
    {
     "name": "stdout",
     "output_type": "stream",
     "text": [
      "[1 1 1 1 1 1 1 1 1 1 1 1 1 1 1 1 0 1 1 0 1 1 1 0 1 1 0 0 1 1 1 1 1 1 1 1 1\n",
      " 2 1 0 1 1 1 1 1 1 1 1 1 1 1 1 1 1 1 1 1 1 1 0 0 0 0 0 1 1 1 1 1 0 2 2 2 2\n",
      " 2 2 2 2 2 2 2 2 2 2 2 2 2 2 2 2 2 2 2 2 2 2 2 2 2 2 1 2 2 2 2 2 2 2 2 2 2\n",
      " 2 2 2 2 2 2 2 2 2 2 2 1 2 1 2 2 2 2 2 2 2 1 1 1 1 2 1 1 1 0 0 0 0 0 0 0 0\n",
      " 0 0 0 0 0 0 0 0 0 0 0 0 0 0 0 0 0 0 0 0 0 0 0 0 0 0 0 0 0 0 0 0 0 0 0 0 0\n",
      " 0 0 0 0 0 0 0 0 0 0 0 0 0 0 0 0 0 0 0 0 0 0 0 0 0]\n"
     ]
    }
   ],
   "source": [
    "# printing the labels generated \n",
    "\n",
    "print(labels)"
   ]
  },
  {
   "cell_type": "code",
   "execution_count": 20,
   "id": "fea650a6",
   "metadata": {},
   "outputs": [],
   "source": [
    "# viewing the seeds data with the new labels field attached to it\n",
    "\n",
    "seeds['labels'] = labels"
   ]
  },
  {
   "cell_type": "code",
   "execution_count": 21,
   "id": "8bfd70e3",
   "metadata": {},
   "outputs": [
    {
     "data": {
      "text/html": [
       "<div>\n",
       "<style scoped>\n",
       "    .dataframe tbody tr th:only-of-type {\n",
       "        vertical-align: middle;\n",
       "    }\n",
       "\n",
       "    .dataframe tbody tr th {\n",
       "        vertical-align: top;\n",
       "    }\n",
       "\n",
       "    .dataframe thead th {\n",
       "        text-align: right;\n",
       "    }\n",
       "</style>\n",
       "<table border=\"1\" class=\"dataframe\">\n",
       "  <thead>\n",
       "    <tr style=\"text-align: right;\">\n",
       "      <th></th>\n",
       "      <th>A</th>\n",
       "      <th>P</th>\n",
       "      <th>C</th>\n",
       "      <th>LK</th>\n",
       "      <th>WK</th>\n",
       "      <th>A_Coef</th>\n",
       "      <th>LKG</th>\n",
       "      <th>target</th>\n",
       "      <th>labels</th>\n",
       "    </tr>\n",
       "  </thead>\n",
       "  <tbody>\n",
       "    <tr>\n",
       "      <th>0</th>\n",
       "      <td>15.26</td>\n",
       "      <td>14.84</td>\n",
       "      <td>0.8710</td>\n",
       "      <td>5.763</td>\n",
       "      <td>3.312</td>\n",
       "      <td>2.221</td>\n",
       "      <td>5.220</td>\n",
       "      <td>0</td>\n",
       "      <td>1</td>\n",
       "    </tr>\n",
       "    <tr>\n",
       "      <th>1</th>\n",
       "      <td>14.88</td>\n",
       "      <td>14.57</td>\n",
       "      <td>0.8811</td>\n",
       "      <td>5.554</td>\n",
       "      <td>3.333</td>\n",
       "      <td>1.018</td>\n",
       "      <td>4.956</td>\n",
       "      <td>0</td>\n",
       "      <td>1</td>\n",
       "    </tr>\n",
       "    <tr>\n",
       "      <th>2</th>\n",
       "      <td>14.29</td>\n",
       "      <td>14.09</td>\n",
       "      <td>0.9050</td>\n",
       "      <td>5.291</td>\n",
       "      <td>3.337</td>\n",
       "      <td>2.699</td>\n",
       "      <td>4.825</td>\n",
       "      <td>0</td>\n",
       "      <td>1</td>\n",
       "    </tr>\n",
       "    <tr>\n",
       "      <th>3</th>\n",
       "      <td>13.84</td>\n",
       "      <td>13.94</td>\n",
       "      <td>0.8955</td>\n",
       "      <td>5.324</td>\n",
       "      <td>3.379</td>\n",
       "      <td>2.259</td>\n",
       "      <td>4.805</td>\n",
       "      <td>0</td>\n",
       "      <td>1</td>\n",
       "    </tr>\n",
       "    <tr>\n",
       "      <th>4</th>\n",
       "      <td>16.14</td>\n",
       "      <td>14.99</td>\n",
       "      <td>0.9034</td>\n",
       "      <td>5.658</td>\n",
       "      <td>3.562</td>\n",
       "      <td>1.355</td>\n",
       "      <td>5.175</td>\n",
       "      <td>0</td>\n",
       "      <td>1</td>\n",
       "    </tr>\n",
       "    <tr>\n",
       "      <th>...</th>\n",
       "      <td>...</td>\n",
       "      <td>...</td>\n",
       "      <td>...</td>\n",
       "      <td>...</td>\n",
       "      <td>...</td>\n",
       "      <td>...</td>\n",
       "      <td>...</td>\n",
       "      <td>...</td>\n",
       "      <td>...</td>\n",
       "    </tr>\n",
       "    <tr>\n",
       "      <th>205</th>\n",
       "      <td>12.19</td>\n",
       "      <td>13.20</td>\n",
       "      <td>0.8783</td>\n",
       "      <td>5.137</td>\n",
       "      <td>2.981</td>\n",
       "      <td>3.631</td>\n",
       "      <td>4.870</td>\n",
       "      <td>2</td>\n",
       "      <td>0</td>\n",
       "    </tr>\n",
       "    <tr>\n",
       "      <th>206</th>\n",
       "      <td>11.23</td>\n",
       "      <td>12.88</td>\n",
       "      <td>0.8511</td>\n",
       "      <td>5.140</td>\n",
       "      <td>2.795</td>\n",
       "      <td>4.325</td>\n",
       "      <td>5.003</td>\n",
       "      <td>2</td>\n",
       "      <td>0</td>\n",
       "    </tr>\n",
       "    <tr>\n",
       "      <th>207</th>\n",
       "      <td>13.20</td>\n",
       "      <td>13.66</td>\n",
       "      <td>0.8883</td>\n",
       "      <td>5.236</td>\n",
       "      <td>3.232</td>\n",
       "      <td>8.315</td>\n",
       "      <td>5.056</td>\n",
       "      <td>2</td>\n",
       "      <td>0</td>\n",
       "    </tr>\n",
       "    <tr>\n",
       "      <th>208</th>\n",
       "      <td>11.84</td>\n",
       "      <td>13.21</td>\n",
       "      <td>0.8521</td>\n",
       "      <td>5.175</td>\n",
       "      <td>2.836</td>\n",
       "      <td>3.598</td>\n",
       "      <td>5.044</td>\n",
       "      <td>2</td>\n",
       "      <td>0</td>\n",
       "    </tr>\n",
       "    <tr>\n",
       "      <th>209</th>\n",
       "      <td>12.30</td>\n",
       "      <td>13.34</td>\n",
       "      <td>0.8684</td>\n",
       "      <td>5.243</td>\n",
       "      <td>2.974</td>\n",
       "      <td>5.637</td>\n",
       "      <td>5.063</td>\n",
       "      <td>2</td>\n",
       "      <td>0</td>\n",
       "    </tr>\n",
       "  </tbody>\n",
       "</table>\n",
       "<p>210 rows × 9 columns</p>\n",
       "</div>"
      ],
      "text/plain": [
       "         A      P       C     LK     WK  A_Coef    LKG  target  labels\n",
       "0    15.26  14.84  0.8710  5.763  3.312   2.221  5.220       0       1\n",
       "1    14.88  14.57  0.8811  5.554  3.333   1.018  4.956       0       1\n",
       "2    14.29  14.09  0.9050  5.291  3.337   2.699  4.825       0       1\n",
       "3    13.84  13.94  0.8955  5.324  3.379   2.259  4.805       0       1\n",
       "4    16.14  14.99  0.9034  5.658  3.562   1.355  5.175       0       1\n",
       "..     ...    ...     ...    ...    ...     ...    ...     ...     ...\n",
       "205  12.19  13.20  0.8783  5.137  2.981   3.631  4.870       2       0\n",
       "206  11.23  12.88  0.8511  5.140  2.795   4.325  5.003       2       0\n",
       "207  13.20  13.66  0.8883  5.236  3.232   8.315  5.056       2       0\n",
       "208  11.84  13.21  0.8521  5.175  2.836   3.598  5.044       2       0\n",
       "209  12.30  13.34  0.8684  5.243  2.974   5.637  5.063       2       0\n",
       "\n",
       "[210 rows x 9 columns]"
      ]
     },
     "execution_count": 21,
     "metadata": {},
     "output_type": "execute_result"
    }
   ],
   "source": [
    "seeds"
   ]
  },
  {
   "cell_type": "code",
   "execution_count": 22,
   "id": "3511f871",
   "metadata": {},
   "outputs": [
    {
     "name": "stdout",
     "output_type": "stream",
     "text": [
      "[[11.98865854 13.28439024  0.85273659  5.22742683  2.88008537  4.58392683\n",
      "   5.0742439 ]\n",
      " [14.81910448 14.53716418  0.88052239  5.59101493  3.29935821  2.70658507\n",
      "   5.21753731]\n",
      " [18.72180328 16.29737705  0.88508689  6.20893443  3.72267213  3.60359016\n",
      "   6.06609836]]\n"
     ]
    }
   ],
   "source": [
    "# printing the centroids that we obtained from the k-means function\n",
    "\n",
    "print(centroids)"
   ]
  },
  {
   "cell_type": "markdown",
   "id": "b1d977a3",
   "metadata": {},
   "source": [
    "### How well did the k-means algorithm perform?"
   ]
  },
  {
   "cell_type": "code",
   "execution_count": 23,
   "id": "6bb15ef7",
   "metadata": {},
   "outputs": [
    {
     "data": {
      "image/png": "[encoded data removed]",
      "text/plain": [
       "<Figure size 432x288 with 1 Axes>"
      ]
     },
     "metadata": {
      "needs_background": "light"
     },
     "output_type": "display_data"
    },
    {
     "data": {
      "image/png": "[encoded data removed]",
      "text/plain": [
       "<Figure size 432x288 with 1 Axes>"
      ]
     },
     "metadata": {
      "needs_background": "light"
     },
     "output_type": "display_data"
    },
    {
     "data": {
      "image/png": "[encoded data removed]",
      "text/plain": [
       "<Figure size 432x288 with 1 Axes>"
      ]
     },
     "metadata": {
      "needs_background": "light"
     },
     "output_type": "display_data"
    }
   ],
   "source": [
    "# See how well our implementation of K-Means did through plots\n",
    "\n",
    "plt.scatter(X['A'], X['LK'])\n",
    "plt.title('Wheat Seeds - Area vs Length of Kernel (only datapoints)')\n",
    "plt.xlabel(\"Area\")\n",
    "plt.ylabel(\"Length of Kernel\")\n",
    "plt.show()\n",
    "\n",
    "plt.scatter(X['A'], X['LK'], c = labels, cmap='tab20b')\n",
    "plt.title('Wheat Seeds - Area vs Length of Kernel (clustered with the centroids obtained)')\n",
    "plt.xlabel(\"Area\")\n",
    "plt.ylabel(\"Length of Kernel\")\n",
    "plt.show()\n",
    "\n",
    "plt.scatter(X['A'], X['LK'], c = y, cmap='tab20b')\n",
    "plt.title('Wheat Seeds - Area vs Length of Kernel (clustred with the actual labels)')\n",
    "plt.xlabel(\"Area\")\n",
    "plt.ylabel(\"Length of Kernel\")\n",
    "plt.show()"
   ]
  },
  {
   "cell_type": "markdown",
   "id": "5d747e8a",
   "metadata": {},
   "source": [
    "By looking at the second (clusters obtained) and third (original clusters) plots above, it can be observed that all three classes have not been accurately classified entirely.\n",
    "\n",
    "Refer to the Silhoutte score calculated below."
   ]
  },
  {
   "cell_type": "markdown",
   "id": "653042ca",
   "metadata": {},
   "source": [
    "### Silhouette_score \n",
    "\n",
    "**Silhouette Score helps to understand how different our clusters are, which means how  similar the datapoints in one cluster are to each other.**\n",
    "\n",
    "The value of the silhouette score ranges from -1 to 1. If the average score across the cluster is one, it means it is a perfect cluster (which is very rare).\n",
    "If the average score across the cluster is close to one (or positive), it means the points are closer to the assigned cluster. If the score is 0, then the point lies on the boundary between the assigned cluster and the next closest cluster. And, if the average score across the cluster is negative then it indicates that a given point is assigned to an incorrect cluster.\n",
    "\n",
    "**How is it calculated?**\n",
    "\n",
    "The Silhouette score is calculated using the mean intra-cluster distance ( a ) and the mean nearest-cluster distance ( b ) for each sample. The Silhouette score for a sample is (b - a) / max(a, b) . To clarify, b is the distance between a sample and the nearest cluster centroid that the sample is not a part of and a is the distance between a sample and the cluster centroid that the sample is a part of."
   ]
  },
  {
   "cell_type": "code",
   "execution_count": 24,
   "id": "f3a2ae5a",
   "metadata": {},
   "outputs": [
    {
     "data": {
      "text/plain": [
       "0.587570455089277"
      ]
     },
     "execution_count": 24,
     "metadata": {},
     "output_type": "execute_result"
    }
   ],
   "source": [
    "# Calculate Silhouette Score\n",
    "\n",
    "silhouette_score(X[['A','LK']], labels)"
   ]
  },
  {
   "cell_type": "markdown",
   "id": "666c8718",
   "metadata": {},
   "source": [
    "The value of the Silhoutte Score is positive and is close to one. Which means the model performed well, but not perfectly. Not all the data points are assigned to the accurate clusters."
   ]
  },
  {
   "cell_type": "markdown",
   "id": "d3ca9eab",
   "metadata": {},
   "source": [
    "## K-means algorithm\n",
    "\n",
    "**using Manhattan Distance Metric**"
   ]
  },
  {
   "cell_type": "code",
   "execution_count": 25,
   "id": "c8ecdec6",
   "metadata": {},
   "outputs": [],
   "source": [
    "# k-means function whih takes the dataset and the number of centroids (K) as parameters \n",
    "# Choice of Distance metric - Cityblock (Manhattan)\n",
    "\n",
    "def k_means(X, K):\n",
    "    # Keep track of history to see K-Means in action\n",
    "    centroids_history = []\n",
    "    labels_history = []\n",
    "    \n",
    "    # Randomly initializing K centroids\n",
    "    rand_index = np.random.choice(X.shape[0], K)  \n",
    "    centroids = X[rand_index]\n",
    "    centroids_history.append(centroids)\n",
    "    \n",
    "    # While loop repeats process until difference between new/old centroids = 0 \n",
    "    while True:\n",
    "        # Manhattan distances are calculated for each point relative to centroids, and then np.argmin returns\n",
    "        # the index location of the minimal distance - which cluster a point is assigned to\n",
    "        labels = np.argmin(cdist(X, centroids, metric = 'cityblock'), axis=1)\n",
    "        labels_history.append(labels)\n",
    "        \n",
    "        # Take mean of points within clusters to find new centroids\n",
    "        new_centroids = np.array([X[labels == i].mean(axis=0) for i in range(K)])\n",
    "        centroids_history.append(new_centroids)\n",
    "        \n",
    "        # If old centroids and new centroids no longer change, K-Means is complete and end. Otherwise continue...\n",
    "        if np.all(centroids == new_centroids):\n",
    "            break\n",
    "        centroids = new_centroids\n",
    "    \n",
    "    return centroids, labels, centroids_history, labels_history"
   ]
  },
  {
   "cell_type": "code",
   "execution_count": 26,
   "id": "614177aa",
   "metadata": {},
   "outputs": [],
   "source": [
    "# the k_means function we created earlier, on our X_mat matrix (formed from the seeds data) with 3 centroids\n",
    "\n",
    "m_centroids, m_labels, centroids_history, labels_history = k_means(X_mat, 3)"
   ]
  },
  {
   "cell_type": "code",
   "execution_count": 27,
   "id": "21bc6b72",
   "metadata": {},
   "outputs": [
    {
     "name": "stdout",
     "output_type": "stream",
     "text": [
      "[2 2 2 2 2 2 2 2 2 2 2 2 2 2 2 2 0 2 2 0 2 2 2 0 2 2 0 0 2 2 2 2 2 2 2 2 2\n",
      " 2 2 2 2 2 2 2 2 2 2 2 2 2 2 2 2 2 2 2 2 2 2 0 0 0 0 0 0 0 2 2 2 0 1 1 1 1\n",
      " 1 1 1 1 1 1 1 1 1 1 1 1 1 1 1 1 1 1 1 1 1 1 1 1 1 1 2 1 1 1 1 1 1 1 1 1 1\n",
      " 1 1 1 1 1 1 1 1 1 1 1 2 1 2 1 1 1 1 1 1 1 2 2 2 2 1 2 2 2 0 0 0 0 0 0 0 0\n",
      " 0 0 0 0 0 0 0 0 0 0 0 0 0 0 0 0 0 0 0 0 0 0 0 0 0 0 0 0 0 0 0 0 0 0 0 0 0\n",
      " 0 0 0 0 0 0 0 0 0 0 0 0 0 0 0 0 0 0 0 0 0 0 0 0 0]\n"
     ]
    }
   ],
   "source": [
    "# printing the labels generated \n",
    "\n",
    "print(m_labels)"
   ]
  },
  {
   "cell_type": "code",
   "execution_count": 28,
   "id": "283c4018",
   "metadata": {},
   "outputs": [
    {
     "name": "stdout",
     "output_type": "stream",
     "text": [
      "[[11.9813253  13.27975904  0.85288554  5.22473494  2.87968675  4.49066265\n",
      "   5.0659759 ]\n",
      " [18.74916667 16.31266667  0.88470667  6.21521667  3.72333333  3.61438333\n",
      "   6.0758    ]\n",
      " [14.9041791  14.5741791   0.88116119  5.60337313  3.31183582  2.79782388\n",
      "   5.23389552]]\n"
     ]
    }
   ],
   "source": [
    "# printing the centroids that we obtained from the k-means function\n",
    "\n",
    "print(m_centroids)"
   ]
  },
  {
   "cell_type": "markdown",
   "id": "e3ee169e",
   "metadata": {},
   "source": [
    "### How well did the k-means algorithm perform?"
   ]
  },
  {
   "cell_type": "code",
   "execution_count": 29,
   "id": "e39daea3",
   "metadata": {},
   "outputs": [
    {
     "data": {
      "image/png": "[encoded data removed]",
      "text/plain": [
       "<Figure size 432x288 with 1 Axes>"
      ]
     },
     "metadata": {
      "needs_background": "light"
     },
     "output_type": "display_data"
    },
    {
     "data": {
      "image/png": "[encoded data removed]",
      "text/plain": [
       "<Figure size 432x288 with 1 Axes>"
      ]
     },
     "metadata": {
      "needs_background": "light"
     },
     "output_type": "display_data"
    },
    {
     "data": {
      "image/png": "[encoded data removed]",
      "text/plain": [
       "<Figure size 432x288 with 1 Axes>"
      ]
     },
     "metadata": {
      "needs_background": "light"
     },
     "output_type": "display_data"
    }
   ],
   "source": [
    "# See how well our implementation of K-Means did through plots\n",
    "\n",
    "plt.scatter(X['A'], X['LK'])\n",
    "plt.title('Wheat Seeds - Area vs Length of Kernel (only datapoints)')\n",
    "plt.xlabel(\"Area\")\n",
    "plt.ylabel(\"Length of Kernel\")\n",
    "plt.show()\n",
    "\n",
    "plt.scatter(X['A'], X['LK'], c = m_labels, cmap='tab20b')\n",
    "plt.title('Wheat Seeds - Area vs Length of Kernel (clustered with the centroids obtained)')\n",
    "plt.xlabel(\"Area\")\n",
    "plt.ylabel(\"Length of Kernel\")\n",
    "plt.show()\n",
    "\n",
    "plt.scatter(X['A'], X['LK'], c = y, cmap='tab20b')\n",
    "plt.title('Wheat Seeds - Area vs Length of Kernel (clustred with the actual labels)')\n",
    "plt.xlabel(\"Area\")\n",
    "plt.ylabel(\"Length of Kernel\")\n",
    "plt.show()"
   ]
  },
  {
   "cell_type": "markdown",
   "id": "09042d1d",
   "metadata": {},
   "source": [
    "By looking at the second (clusters obtained) and third (original clusters) plots above, it can be observed that one of the three classes has been almost accurately classified however the other two are not.\n",
    "\n",
    "Refer to the Silhoutte score calculated below."
   ]
  },
  {
   "cell_type": "markdown",
   "id": "a562310c",
   "metadata": {},
   "source": [
    "### Silhouette_score"
   ]
  },
  {
   "cell_type": "code",
   "execution_count": 30,
   "id": "4d9595aa",
   "metadata": {},
   "outputs": [
    {
     "data": {
      "text/plain": [
       "0.6068441467372373"
      ]
     },
     "execution_count": 30,
     "metadata": {},
     "output_type": "execute_result"
    }
   ],
   "source": [
    "# Calculate Silhouette Score\n",
    "\n",
    "silhouette_score(X[['A','LK']], m_labels)"
   ]
  },
  {
   "cell_type": "markdown",
   "id": "fdf51016",
   "metadata": {},
   "source": [
    "The observation from the plots remains the same that not all the clusters are well identified.\n",
    "\n",
    "The value of the Silhoutte Score is positive and is close to one. Which means the model performed well, but not perfectly. Not all the data points are assigned to the accurate clusters.\n",
    "\n",
    "The value of the score obtained here is higher than the previous one, which means, this model performed better, even if it is still not perfect."
   ]
  },
  {
   "cell_type": "code",
   "execution_count": null,
   "id": "0ffd13f6",
   "metadata": {},
   "outputs": [],
   "source": []
  }
 ],
 "metadata": {
  "kernelspec": {
   "display_name": "Python 3 (ipykernel)",
   "language": "python",
   "name": "python3"
  },
  "language_info": {
   "codemirror_mode": {
    "name": "ipython",
    "version": 3
   },
   "file_extension": ".py",
   "mimetype": "text/x-python",
   "name": "python",
   "nbconvert_exporter": "python",
   "pygments_lexer": "ipython3",
   "version": "3.9.12"
  }
 },
 "nbformat": 4,
 "nbformat_minor": 5
}
