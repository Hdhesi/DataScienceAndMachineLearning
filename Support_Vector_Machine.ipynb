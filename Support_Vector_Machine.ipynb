{
 "cells": [
  {
   "cell_type": "markdown",
   "id": "c5d97fd6",
   "metadata": {},
   "source": [
    "# Support Vector Machine"
   ]
  },
  {
   "cell_type": "markdown",
   "id": "c1bc8f50",
   "metadata": {},
   "source": [
    "### Information about the Dataset -\n",
    "**3 Classes** : 3 different types of Wheat Seed \n",
    "\n",
    "| Class | Seed Type | Count |\n",
    "| ----- | --------- | ----- |\n",
    "| 1  | Kama | 66 |\n",
    "| 2  | Rosa | 68 |\n",
    "| 3  | Canadian | 65 |\n",
    "\n",
    "**7 Features :**\n",
    "1. area A, \n",
    "2. perimeter P, \n",
    "3. compactness C = 4*pi*A/P^2, \n",
    "4. length of kernel, \n",
    "5. width of kernel, \n",
    "6. asymmetry coefficient \n",
    "7. length of kernel groove. \n",
    "\n",
    "**Problem:** Based on 7 features, predict 3 different classes."
   ]
  },
  {
   "cell_type": "code",
   "execution_count": 1,
   "id": "b0306776",
   "metadata": {},
   "outputs": [],
   "source": [
    "# importing all the necessary libraries\n",
    "\n",
    "import pandas as pd\n",
    "import matplotlib.pyplot as plt\n",
    "from sklearn.svm import SVC\n",
    "from sklearn.metrics import classification_report\n",
    "from sklearn.metrics import confusion_matrix\n",
    "from sklearn.model_selection import train_test_split\n",
    "import utils"
   ]
  },
  {
   "cell_type": "code",
   "execution_count": 2,
   "id": "9f50982b",
   "metadata": {},
   "outputs": [],
   "source": [
    "seed = 1"
   ]
  },
  {
   "cell_type": "code",
   "execution_count": 3,
   "id": "34d29d88",
   "metadata": {},
   "outputs": [
    {
     "data": {
      "text/html": [
       "<div>\n",
       "<style scoped>\n",
       "    .dataframe tbody tr th:only-of-type {\n",
       "        vertical-align: middle;\n",
       "    }\n",
       "\n",
       "    .dataframe tbody tr th {\n",
       "        vertical-align: top;\n",
       "    }\n",
       "\n",
       "    .dataframe thead th {\n",
       "        text-align: right;\n",
       "    }\n",
       "</style>\n",
       "<table border=\"1\" class=\"dataframe\">\n",
       "  <thead>\n",
       "    <tr style=\"text-align: right;\">\n",
       "      <th></th>\n",
       "      <th>Area</th>\n",
       "      <th>Perimeter</th>\n",
       "      <th>Compactness</th>\n",
       "      <th>Kernel.Length</th>\n",
       "      <th>Kernel.Width</th>\n",
       "      <th>Asymmetry.Coeff</th>\n",
       "      <th>Kernel.Groove</th>\n",
       "      <th>Type</th>\n",
       "    </tr>\n",
       "  </thead>\n",
       "  <tbody>\n",
       "    <tr>\n",
       "      <th>0</th>\n",
       "      <td>15.26</td>\n",
       "      <td>14.84</td>\n",
       "      <td>0.8710</td>\n",
       "      <td>5.763</td>\n",
       "      <td>3.312</td>\n",
       "      <td>2.221</td>\n",
       "      <td>5.220</td>\n",
       "      <td>1</td>\n",
       "    </tr>\n",
       "    <tr>\n",
       "      <th>1</th>\n",
       "      <td>14.88</td>\n",
       "      <td>14.57</td>\n",
       "      <td>0.8811</td>\n",
       "      <td>5.554</td>\n",
       "      <td>3.333</td>\n",
       "      <td>1.018</td>\n",
       "      <td>4.956</td>\n",
       "      <td>1</td>\n",
       "    </tr>\n",
       "    <tr>\n",
       "      <th>2</th>\n",
       "      <td>14.29</td>\n",
       "      <td>14.09</td>\n",
       "      <td>0.9050</td>\n",
       "      <td>5.291</td>\n",
       "      <td>3.337</td>\n",
       "      <td>2.699</td>\n",
       "      <td>4.825</td>\n",
       "      <td>1</td>\n",
       "    </tr>\n",
       "    <tr>\n",
       "      <th>3</th>\n",
       "      <td>13.84</td>\n",
       "      <td>13.94</td>\n",
       "      <td>0.8955</td>\n",
       "      <td>5.324</td>\n",
       "      <td>3.379</td>\n",
       "      <td>2.259</td>\n",
       "      <td>4.805</td>\n",
       "      <td>1</td>\n",
       "    </tr>\n",
       "    <tr>\n",
       "      <th>4</th>\n",
       "      <td>16.14</td>\n",
       "      <td>14.99</td>\n",
       "      <td>0.9034</td>\n",
       "      <td>5.658</td>\n",
       "      <td>3.562</td>\n",
       "      <td>1.355</td>\n",
       "      <td>5.175</td>\n",
       "      <td>1</td>\n",
       "    </tr>\n",
       "    <tr>\n",
       "      <th>...</th>\n",
       "      <td>...</td>\n",
       "      <td>...</td>\n",
       "      <td>...</td>\n",
       "      <td>...</td>\n",
       "      <td>...</td>\n",
       "      <td>...</td>\n",
       "      <td>...</td>\n",
       "      <td>...</td>\n",
       "    </tr>\n",
       "    <tr>\n",
       "      <th>194</th>\n",
       "      <td>12.19</td>\n",
       "      <td>13.20</td>\n",
       "      <td>0.8783</td>\n",
       "      <td>5.137</td>\n",
       "      <td>2.981</td>\n",
       "      <td>3.631</td>\n",
       "      <td>4.870</td>\n",
       "      <td>3</td>\n",
       "    </tr>\n",
       "    <tr>\n",
       "      <th>195</th>\n",
       "      <td>11.23</td>\n",
       "      <td>12.88</td>\n",
       "      <td>0.8511</td>\n",
       "      <td>5.140</td>\n",
       "      <td>2.795</td>\n",
       "      <td>4.325</td>\n",
       "      <td>5.003</td>\n",
       "      <td>3</td>\n",
       "    </tr>\n",
       "    <tr>\n",
       "      <th>196</th>\n",
       "      <td>13.20</td>\n",
       "      <td>13.66</td>\n",
       "      <td>0.8883</td>\n",
       "      <td>5.236</td>\n",
       "      <td>3.232</td>\n",
       "      <td>8.315</td>\n",
       "      <td>5.056</td>\n",
       "      <td>3</td>\n",
       "    </tr>\n",
       "    <tr>\n",
       "      <th>197</th>\n",
       "      <td>11.84</td>\n",
       "      <td>13.21</td>\n",
       "      <td>0.8521</td>\n",
       "      <td>5.175</td>\n",
       "      <td>2.836</td>\n",
       "      <td>3.598</td>\n",
       "      <td>5.044</td>\n",
       "      <td>3</td>\n",
       "    </tr>\n",
       "    <tr>\n",
       "      <th>198</th>\n",
       "      <td>12.30</td>\n",
       "      <td>13.34</td>\n",
       "      <td>0.8684</td>\n",
       "      <td>5.243</td>\n",
       "      <td>2.974</td>\n",
       "      <td>5.637</td>\n",
       "      <td>5.063</td>\n",
       "      <td>3</td>\n",
       "    </tr>\n",
       "  </tbody>\n",
       "</table>\n",
       "<p>199 rows × 8 columns</p>\n",
       "</div>"
      ],
      "text/plain": [
       "      Area  Perimeter  Compactness  Kernel.Length  Kernel.Width  \\\n",
       "0    15.26      14.84       0.8710          5.763         3.312   \n",
       "1    14.88      14.57       0.8811          5.554         3.333   \n",
       "2    14.29      14.09       0.9050          5.291         3.337   \n",
       "3    13.84      13.94       0.8955          5.324         3.379   \n",
       "4    16.14      14.99       0.9034          5.658         3.562   \n",
       "..     ...        ...          ...            ...           ...   \n",
       "194  12.19      13.20       0.8783          5.137         2.981   \n",
       "195  11.23      12.88       0.8511          5.140         2.795   \n",
       "196  13.20      13.66       0.8883          5.236         3.232   \n",
       "197  11.84      13.21       0.8521          5.175         2.836   \n",
       "198  12.30      13.34       0.8684          5.243         2.974   \n",
       "\n",
       "     Asymmetry.Coeff  Kernel.Groove  Type  \n",
       "0              2.221          5.220     1  \n",
       "1              1.018          4.956     1  \n",
       "2              2.699          4.825     1  \n",
       "3              2.259          4.805     1  \n",
       "4              1.355          5.175     1  \n",
       "..               ...            ...   ...  \n",
       "194            3.631          4.870     3  \n",
       "195            4.325          5.003     3  \n",
       "196            8.315          5.056     3  \n",
       "197            3.598          5.044     3  \n",
       "198            5.637          5.063     3  \n",
       "\n",
       "[199 rows x 8 columns]"
      ]
     },
     "execution_count": 3,
     "metadata": {},
     "output_type": "execute_result"
    }
   ],
   "source": [
    "# reading the csv file into pandas dataframe called seeds\n",
    "\n",
    "seeds = pd.read_csv(\"seeds.csv\")\n",
    "seeds"
   ]
  },
  {
   "cell_type": "code",
   "execution_count": 4,
   "id": "ce76d4d9",
   "metadata": {},
   "outputs": [],
   "source": [
    "# declaring features and labels\n",
    "\n",
    "features = seeds.drop(\"Type\", axis = 1)\n",
    "labels = seeds[\"Type\"]"
   ]
  },
  {
   "cell_type": "markdown",
   "id": "5d00feb6",
   "metadata": {},
   "source": [
    "I tried different proportions like:\n",
    "1. 80% train, 10% test, 10% val\n",
    "2. 70% train, 20% test, 10% val\n",
    "3. 70% train, 15% test, 15% val\n",
    "3. 60% train, 20% test, 20% val\n",
    "\n",
    "Out of these, I choose 3. with:\n",
    "\n",
    "**Training Set = 70%**,\n",
    "**Testing Set = 15%**,\n",
    "**Validation Set = 15%**\n",
    "\n",
    "This proportion provides enough data for testing and validation in a way that, Training, Testing and Validation accuracies are all adequtely high in relation to each other."
   ]
  },
  {
   "cell_type": "code",
   "execution_count": 5,
   "id": "2b2366ca",
   "metadata": {
    "scrolled": true
   },
   "outputs": [],
   "source": [
    "# splitting data into training, testing and validation datasets\n",
    "\n",
    "# training and testing \n",
    "x_train, x_test, y_train, y_test = train_test_split(features, labels, test_size = 0.15, random_state = seed)\n",
    "\n",
    "# training and validation \n",
    "x_train, x_val, y_train, y_val = train_test_split(x_train, y_train, test_size = 0.15, random_state = seed)"
   ]
  },
  {
   "cell_type": "markdown",
   "id": "2ae301bb",
   "metadata": {},
   "source": [
    "### Explaination of OVO and OVR methods of multiclass classification:\n",
    "\n",
    "**one vs. one method of classification:**\n",
    "_This method splits the data into binary sets and makes a model for each of the binary sets. For a prediction, each model gets a vote and the one with majority of votes wins.\n",
    "For k classes, this method requires k(k-1)/2 SVMs._\n",
    "\n",
    "**one vs. rest method of classification:**\n",
    "_This method needs one model for each class. Each model is given a label of that class. And then it makes it a binary classification problem by which it predicts that class or not that class. This way each model gives a score and highest of all wins.\n",
    "For k calsses, this method requires k SVMs._"
   ]
  },
  {
   "cell_type": "markdown",
   "id": "d44d1c5d",
   "metadata": {},
   "source": [
    "### Creating SVM using OVO method\n",
    "\n",
    "**Experimenting with 4 different values of C parameter.**"
   ]
  },
  {
   "cell_type": "code",
   "execution_count": 6,
   "id": "e2ffa788",
   "metadata": {},
   "outputs": [
    {
     "name": "stdout",
     "output_type": "stream",
     "text": [
      "C = 10\n",
      "Training Accuracy: 0.9230769230769231\n",
      "Validation Accuracy: 0.9230769230769231\n",
      " \n"
     ]
    }
   ],
   "source": [
    "# C = 0.01\n",
    "\n",
    "'''svm_c_001 = SVC(C = 0.01, decision_function_shape = 'ovo', random_state = seed)\n",
    "svm_c_001.fit(x_train, y_train)\n",
    "print(\"C = 0.01\")\n",
    "print(\"Training Accuracy:\", svm_c_001.score(x_train, y_train))\n",
    "print(\"Validation Accuracy:\", svm_c_001.score(x_val, y_val))\n",
    "print(\" \")'''\n",
    "\n",
    "# C = 0.1\n",
    "\n",
    "'''svm_c_01 = SVC(C = 0.1, decision_function_shape = 'ovo', random_state = seed)\n",
    "svm_c_01.fit(x_train, y_train)\n",
    "print(\"C = 0.1\")\n",
    "print(\"Training Accuracy:\", svm_c_01.score(x_train, y_train))\n",
    "print(\"Validation Accuracy:\", svm_c_01.score(x_val, y_val))\n",
    "print(\" \")'''\n",
    "\n",
    "# C = 1\n",
    "\n",
    "'''svm_c_1 = SVC( C = 1, decision_function_shape = 'ovo', random_state = seed)\n",
    "svm_c_1.fit(x_train, y_train)\n",
    "print(\"C = 1\")\n",
    "print(\"Training Accuracy:\", svm_c_1.score(x_train, y_train)) \n",
    "print(\"Validation Accuracy:\", svm_c_1.score(x_val, y_val))\n",
    "print(\" \")'''\n",
    "\n",
    "# C = 10\n",
    "\n",
    "svm_c_10 = SVC(C = 10, decision_function_shape = 'ovo', random_state = seed)\n",
    "svm_c_10.fit(x_train, y_train)\n",
    "print(\"C = 10\")\n",
    "print(\"Training Accuracy:\", svm_c_10.score(x_train, y_train))\n",
    "print(\"Validation Accuracy:\", svm_c_10.score(x_val, y_val))\n",
    "print(\" \")"
   ]
  },
  {
   "cell_type": "markdown",
   "id": "9913be27",
   "metadata": {},
   "source": [
    "From the above values of C parameter, based on the training and validation accuracies, I would choose SVM with **C = 10** to be the best of all. Hence, I will continue with this value of C."
   ]
  },
  {
   "cell_type": "code",
   "execution_count": 7,
   "id": "1b96203c",
   "metadata": {},
   "outputs": [
    {
     "name": "stdout",
     "output_type": "stream",
     "text": [
      "C = 10\n",
      "Training Accuracy: 0.9230769230769231\n",
      "Validation Accuracy: 0.9230769230769231\n",
      "Testing Accuracy: 0.8666666666666667\n",
      " \n"
     ]
    }
   ],
   "source": [
    "# SVM model with the chosen value of C parameter as 10\n",
    "\n",
    "print(\"C = 10\")\n",
    "print(\"Training Accuracy:\", svm_c_10.score(x_train, y_train))\n",
    "print(\"Validation Accuracy:\", svm_c_10.score(x_val, y_val))\n",
    "print(\"Testing Accuracy:\", svm_c_10.score(x_test, y_test))\n",
    "print(\" \")"
   ]
  },
  {
   "cell_type": "markdown",
   "id": "83f722ee",
   "metadata": {},
   "source": [
    "### C Parameter:\n",
    "\n",
    "Total error = C * (Classification Error) + (Distance Error)\n",
    "\n",
    "**C parameter** _controls how important each of the above errors is relative to each other. If C has large value, a smaller margin will be accepted and the model is better at classifying all the training points correctly. Smaller value of C will encourage larger margin but with lower training accuracy._"
   ]
  },
  {
   "cell_type": "markdown",
   "id": "78ee42ec",
   "metadata": {},
   "source": [
    "### Trying Linear Kernel"
   ]
  },
  {
   "cell_type": "code",
   "execution_count": 8,
   "id": "8acb59b0",
   "metadata": {},
   "outputs": [
    {
     "name": "stdout",
     "output_type": "stream",
     "text": [
      "Linear kernel\n",
      "Training Accuracy: 0.972027972027972\n",
      "Validation Accuracy: 0.9230769230769231\n",
      "Testing Accuracy: 0.9333333333333333\n",
      " \n"
     ]
    }
   ],
   "source": [
    "svm_linear = SVC(kernel = 'linear', C = 10, decision_function_shape = 'ovo', random_state = seed)\n",
    "svm_linear.fit(x_train, y_train)\n",
    "print(\"Linear kernel\")\n",
    "print(\"Training Accuracy:\", svm_linear.score(x_train, y_train))\n",
    "print(\"Validation Accuracy:\", svm_linear.score(x_val, y_val))\n",
    "print(\"Testing Accuracy:\", svm_linear.score(x_test, y_test))\n",
    "print(\" \")"
   ]
  },
  {
   "cell_type": "markdown",
   "id": "4b4f9ad0",
   "metadata": {},
   "source": [
    "### Trying Polynomial kernel with different degrees"
   ]
  },
  {
   "cell_type": "code",
   "execution_count": 9,
   "id": "71b7e03b",
   "metadata": {
    "scrolled": true
   },
   "outputs": [
    {
     "name": "stdout",
     "output_type": "stream",
     "text": [
      "Polynomial kernel of degree = 6\n",
      "Training Accuracy: 0.986013986013986\n",
      "Validation Accuracy: 0.9230769230769231\n",
      " \n"
     ]
    }
   ],
   "source": [
    "# default degree = 3\n",
    "\n",
    "'''svm_poly = SVC(kernel = 'poly', C = 10, decision_function_shape = 'ovo', random_state = seed)\n",
    "svm_poly.fit(x_train, y_train)\n",
    "print(\"Polynomial kernel with default degree value\")\n",
    "print(\"Training Accuracy:\", svm_poly.score(x_train, y_train))\n",
    "print(\"Validation Accuracy:\", svm_poly.score(x_val, y_val))\n",
    "print(\" \")'''\n",
    "\n",
    "# Degree = 2\n",
    "\n",
    "'''svm_degree_2 = SVC(kernel = 'poly', degree = 2, C = 10, decision_function_shape = 'ovo', random_state = seed)\n",
    "svm_degree_2.fit(x_train, y_train)\n",
    "print(\"Polynomial kernel of degree = 2\")\n",
    "print(\"Training Accuracy:\", svm_degree_2.score(x_train, y_train))\n",
    "print(\"Validation Accuracy:\", svm_degree_2.score(x_val, y_val))\n",
    "print(\" \")'''\n",
    "\n",
    "# Degree = 4\n",
    "\n",
    "'''svm_degree_4 = SVC(kernel = 'poly', degree = 4, C = 10, decision_function_shape = 'ovo', random_state = seed)\n",
    "svm_degree_4.fit(x_train, y_train)\n",
    "print(\"Polynomial kernel of degree = 4\")\n",
    "print(\"Training Accuracy:\", svm_degree_4.score(x_train, y_train))\n",
    "print(\"Validation Accuracy:\", svm_degree_4.score(x_val, y_val))\n",
    "print(\" \")'''\n",
    "\n",
    "# Degree = 6\n",
    "\n",
    "svm_degree_6 = SVC(kernel = 'poly', degree = 6, C = 10, decision_function_shape = 'ovo', random_state = seed)\n",
    "svm_degree_6.fit(x_train, y_train)\n",
    "print(\"Polynomial kernel of degree = 6\")\n",
    "print(\"Training Accuracy:\", svm_degree_6.score(x_train, y_train))\n",
    "print(\"Validation Accuracy:\", svm_degree_6.score(x_val, y_val))\n",
    "print(\" \")"
   ]
  },
  {
   "cell_type": "markdown",
   "id": "ea199ec2",
   "metadata": {},
   "source": [
    "From different values of the degree for Polynomial kernel, I choose **degree = 6** as the best because of its high validation accuracy and the corresponding training accuracy being the highest at the same time as compared to the other Polynomial kernels."
   ]
  },
  {
   "cell_type": "code",
   "execution_count": 10,
   "id": "17e3349c",
   "metadata": {},
   "outputs": [
    {
     "name": "stdout",
     "output_type": "stream",
     "text": [
      "Polynomial kernel of degree = 6\n",
      "Training Accuracy: 0.986013986013986\n",
      "Validation Accuracy: 0.9230769230769231\n",
      "Testing Accuracy: 0.9666666666666667\n",
      " \n"
     ]
    }
   ],
   "source": [
    "# Degree = 6\n",
    "\n",
    "print(\"Polynomial kernel of degree = 6\")\n",
    "print(\"Training Accuracy:\", svm_degree_6.score(x_train, y_train))\n",
    "print(\"Validation Accuracy:\", svm_degree_6.score(x_val, y_val))\n",
    "print(\"Testing Accuracy:\", svm_degree_6.score(x_test, y_test))\n",
    "print(\" \")"
   ]
  },
  {
   "cell_type": "markdown",
   "id": "4456749f",
   "metadata": {},
   "source": [
    "### Trying RBF Kernel with different values of gamma"
   ]
  },
  {
   "cell_type": "code",
   "execution_count": 11,
   "id": "e8079aeb",
   "metadata": {},
   "outputs": [
    {
     "name": "stdout",
     "output_type": "stream",
     "text": [
      "Gamma = 1\n",
      "Training Accuracy: 1.0\n",
      "Validation Accuracy: 0.9615384615384616\n",
      " \n"
     ]
    },
    {
     "data": {
      "text/plain": [
       "'svm_gamma_100 = SVC(kernel = \\'rbf\\', gamma = 100, C = 10, decision_function_shape = \\'ovo\\', random_state = seed)\\nsvm_gamma_100.fit(x_train, y_train)\\nprint(\"Gamma = 100\")\\nprint(\"Training Accuracy:\", svm_gamma_100.score(x_train, y_train))\\nprint(\"Validation Accuracy:\", svm_gamma_100.score(x_val, y_val))\\nprint(\" \")'"
      ]
     },
     "execution_count": 11,
     "metadata": {},
     "output_type": "execute_result"
    }
   ],
   "source": [
    "# gamma = 0.1\n",
    "\n",
    "'''svm_gamma_01 = SVC(kernel = 'rbf', gamma = 0.1, C = 10, decision_function_shape = 'ovo', random_state = seed)\n",
    "svm_gamma_01.fit(x_train, y_train)\n",
    "print(\"Gamma = 0.1\")\n",
    "print(\"Training Accuracy:\", svm_gamma_01.score(x_train, y_train))\n",
    "print(\"Validation Accuracy:\", svm_gamma_01.score(x_val, y_val))\n",
    "print(\" \")'''\n",
    "\n",
    "# gamma = 1\n",
    "\n",
    "svm_gamma_1 = SVC(kernel = 'rbf', gamma = 1, C = 10, decision_function_shape = 'ovo', random_state = seed)\n",
    "svm_gamma_1.fit(x_train, y_train)\n",
    "print(\"Gamma = 1\")\n",
    "print(\"Training Accuracy:\", svm_gamma_1.score(x_train, y_train))\n",
    "print(\"Validation Accuracy:\", svm_gamma_1.score(x_val, y_val))\n",
    "print(\" \")\n",
    "\n",
    "# gamma = 10\n",
    "\n",
    "'''svm_gamma_10 = SVC(kernel = 'rbf', gamma = 10, C = 10, decision_function_shape = 'ovo', random_state = seed)\n",
    "svm_gamma_10.fit(x_train, y_train)\n",
    "print(\"Gamma = 10\")\n",
    "print(\"Training Accuracy:\", svm_gamma_10.score(x_train, y_train))\n",
    "print(\"Validation Accuracy:\", svm_gamma_10.score(x_val, y_val))\n",
    "print(\" \")'''\n",
    "\n",
    "# gamma = 100\n",
    "\n",
    "'''svm_gamma_100 = SVC(kernel = 'rbf', gamma = 100, C = 10, decision_function_shape = 'ovo', random_state = seed)\n",
    "svm_gamma_100.fit(x_train, y_train)\n",
    "print(\"Gamma = 100\")\n",
    "print(\"Training Accuracy:\", svm_gamma_100.score(x_train, y_train))\n",
    "print(\"Validation Accuracy:\", svm_gamma_100.score(x_val, y_val))\n",
    "print(\" \")'''"
   ]
  },
  {
   "cell_type": "markdown",
   "id": "ce3d13b7",
   "metadata": {},
   "source": [
    "From RBF kernels with different values of gamma, I choose RBF kernel SVM with **gamma = 1** to be the best of all because of the highest validation accuracy and significantly high training accuracy at the same time as compared to other RBF kernels."
   ]
  },
  {
   "cell_type": "code",
   "execution_count": 12,
   "id": "b7e7b32c",
   "metadata": {},
   "outputs": [
    {
     "name": "stdout",
     "output_type": "stream",
     "text": [
      "Gamma = 1\n",
      "Training Accuracy: 1.0\n",
      "Validation Accuracy: 0.9615384615384616\n",
      "Testing Accuracy: 0.9333333333333333\n",
      " \n"
     ]
    }
   ],
   "source": [
    "# RBF kernel SVM with chosen gamma value of 1\n",
    "\n",
    "print(\"Gamma = 1\")\n",
    "print(\"Training Accuracy:\", svm_gamma_1.score(x_train, y_train))\n",
    "print(\"Validation Accuracy:\", svm_gamma_1.score(x_val, y_val))\n",
    "print(\"Testing Accuracy:\", svm_gamma_1.score(x_test, y_test))\n",
    "print(\" \")"
   ]
  },
  {
   "cell_type": "markdown",
   "id": "0eaf3ba9",
   "metadata": {},
   "source": [
    "### Final choice of Hyperparameters is:\n",
    "\n",
    "**C = 10, degree = 6 in Polynomial kernel and gamma = 1 for RBF Kernel**. \n",
    "\n",
    "Out of Linear, Polynomial and RBF kernel models, **I choose RBF model to be the best for my data**.\n",
    "\n",
    "In relation with each other, validation accuracy, training accuracy and testing accuracy are all high, which makes RBF model suitable for this case. Also, this means that **RBF model is neither overfitting nor underfitting**. It's doing good in classfying different types of seeds."
   ]
  },
  {
   "cell_type": "code",
   "execution_count": 13,
   "id": "d34484dc",
   "metadata": {},
   "outputs": [
    {
     "data": {
      "text/plain": [
       "array([3, 1, 2, 2, 3, 3, 2, 1, 1, 3, 1, 1, 1, 3, 3, 2, 2, 2, 2, 1, 1, 1,\n",
       "       1, 2, 1, 3, 1, 1, 3, 1])"
      ]
     },
     "execution_count": 13,
     "metadata": {},
     "output_type": "execute_result"
    }
   ],
   "source": [
    "# predicting classes within the test data using the trained SVM\n",
    "\n",
    "svm_gamma_1.predict(x_test)"
   ]
  },
  {
   "cell_type": "code",
   "execution_count": 14,
   "id": "c5ace454",
   "metadata": {},
   "outputs": [
    {
     "name": "stdout",
     "output_type": "stream",
     "text": [
      "Testing accuracy:  0.9333333333333333\n"
     ]
    }
   ],
   "source": [
    "# displaying mean accuracy for these predictions\n",
    "\n",
    "print(\"Testing accuracy: \", svm_gamma_1.score(x_test, y_test))"
   ]
  },
  {
   "cell_type": "markdown",
   "id": "5c0b3314",
   "metadata": {},
   "source": [
    "# Quantitative Analysis of the Support Vector Machine Algorithm"
   ]
  },
  {
   "cell_type": "markdown",
   "id": "b519a8b3",
   "metadata": {},
   "source": [
    "### My final SVM model is svm_gamma_1, which is an RBF kernel with gamma = 1"
   ]
  },
  {
   "cell_type": "code",
   "execution_count": 15,
   "id": "d936d04f",
   "metadata": {
    "scrolled": true
   },
   "outputs": [
    {
     "name": "stdout",
     "output_type": "stream",
     "text": [
      "Gamma = 1\n",
      "Training Accuracy: 1.0\n",
      "Validation Accuracy: 0.9615384615384616\n",
      "Testing Accuracy: 0.9333333333333333\n",
      " \n"
     ]
    }
   ],
   "source": [
    "# accuracy for the training, validation and testing sets for svm_gamma_1\n",
    "\n",
    "print(\"Gamma = 1\")\n",
    "print(\"Training Accuracy:\", svm_gamma_1.score(x_train, y_train))\n",
    "print(\"Validation Accuracy:\", svm_gamma_1.score(x_val, y_val))\n",
    "print(\"Testing Accuracy:\", svm_gamma_1.score(x_test, y_test))\n",
    "print(\" \")"
   ]
  },
  {
   "cell_type": "code",
   "execution_count": 16,
   "id": "6384dd5b",
   "metadata": {},
   "outputs": [
    {
     "data": {
      "text/plain": [
       "array([[14,  2,  0],\n",
       "       [ 0,  6,  0],\n",
       "       [ 0,  0,  8]])"
      ]
     },
     "execution_count": 16,
     "metadata": {},
     "output_type": "execute_result"
    }
   ],
   "source": [
    "# confusion matrix for the training set\n",
    "\n",
    "confusion_matrix(y_test, svm_gamma_1.predict(x_test))"
   ]
  },
  {
   "cell_type": "markdown",
   "id": "37dc2df5",
   "metadata": {},
   "source": [
    "**From the above confusion matrix, it can be observed that Class 1 (Type 1 seed) has not been perfectly predicted always. It has been falsely classified as Type 2 seed twice. This gives the testing accuracy as 93%. So, this the worst error in my case.**"
   ]
  },
  {
   "cell_type": "markdown",
   "id": "c0ebef7e",
   "metadata": {},
   "source": [
    "## Comparing the two notebooks"
   ]
  },
  {
   "cell_type": "markdown",
   "id": "eb34e1dc",
   "metadata": {},
   "source": [
    "| Model | Training Accuracy | Validation Accuracy | Testing accuracy |\n",
    "| ----- | ----------------- | ------------------- | ---------------- |\n",
    "| Decision Tree | 1.0 | 0.96 | 0.97 |\n",
    "| Support Vector machine | 1.0 | 0.96 | 0.93 |"
   ]
  },
  {
   "cell_type": "markdown",
   "id": "526d5fd2",
   "metadata": {},
   "source": [
    "I would recommend **Decision Tree algorithm** to perform classification for my case. Both the models give same Training and Validation accuracies, however, in relation to these, testing accuracy of Decision Tree algorithm is higher than the SVM. "
   ]
  },
  {
   "cell_type": "code",
   "execution_count": null,
   "id": "9872fce9",
   "metadata": {},
   "outputs": [],
   "source": []
  }
 ],
 "metadata": {
  "kernelspec": {
   "display_name": "Python 3",
   "language": "python",
   "name": "python3"
  },
  "language_info": {
   "codemirror_mode": {
    "name": "ipython",
    "version": 3
   },
   "file_extension": ".py",
   "mimetype": "text/x-python",
   "name": "python",
   "nbconvert_exporter": "python",
   "pygments_lexer": "ipython3",
   "version": "3.8.8"
  }
 },
 "nbformat": 4,
 "nbformat_minor": 5
}
