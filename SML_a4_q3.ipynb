{
 "cells": [
  {
   "cell_type": "markdown",
   "id": "c6815aa5",
   "metadata": {},
   "source": [
    "## After removing some words from the csv file, "
   ]
  },
  {
   "cell_type": "markdown",
   "id": "f4e74c53",
   "metadata": {},
   "source": [
    "_3b) importing necessary libraries and modules._"
   ]
  },
  {
   "cell_type": "code",
   "execution_count": 1,
   "id": "c960a233",
   "metadata": {},
   "outputs": [],
   "source": [
    "import turicreate as tc\n",
    "import utils"
   ]
  },
  {
   "cell_type": "markdown",
   "id": "edfbcdd8",
   "metadata": {},
   "source": [
    "_3c) Loading the updated file,_ _**IMDB_Dataset_mod.csv**_ _into an SFrame._ \n",
    "\n",
    "_The words that have been removed include:_\n",
    "\n",
    "has, Has, have, Have, had, Had, do, Do, does, Does, did, Did, is, Is, am, Am, are, Are, was, Was, were, Were, will, Will, shall, Shall, should, Should, can, Can, could, Could, of, Of, for, For, the, The, a, A, an, An, and, And, or, Or, but, But, while, While, whereas, Whereas, I, me, Me, mine, Mine, he, He, his, His, him, Him, she, She, her, Her, hers, Hers, it, It, its, Its, it's, It's, we, We, our, Our, ours, Ours, you, You, yours, Yours, they, They, their, Their, us, Us, only, Only, just, Just, because, Because........ and few more.\n",
    "\n",
    "_These words and many more which were the neutral words, meaning, unimportant words, were removed. This is because these words lacked sentiment and as these words themselves were unimportant, they were just adding unecessary weights to the weight of the review to predict the overall sentiment. Removing these would help improve the performance of our model and give more accurate predictions._\n",
    "\n",
    "\n",
    "_**Printing the SFrame**_\n",
    "\n"
   ]
  },
  {
   "cell_type": "code",
   "execution_count": 2,
   "id": "4d58fd2c",
   "metadata": {},
   "outputs": [
    {
     "data": {
      "text/html": [
       "<pre>Finished parsing file /home/hdhesi/SupervisedML/Assignment4/IMDB_Dataset_mod.csv</pre>"
      ],
      "text/plain": [
       "Finished parsing file /home/hdhesi/SupervisedML/Assignment4/IMDB_Dataset_mod.csv"
      ]
     },
     "metadata": {},
     "output_type": "display_data"
    },
    {
     "data": {
      "text/html": [
       "<pre>Parsing completed. Parsed 100 lines in 0.381793 secs.</pre>"
      ],
      "text/plain": [
       "Parsing completed. Parsed 100 lines in 0.381793 secs."
      ]
     },
     "metadata": {},
     "output_type": "display_data"
    },
    {
     "name": "stdout",
     "output_type": "stream",
     "text": [
      "------------------------------------------------------\n",
      "Inferred types from first 100 line(s) of file as \n",
      "column_type_hints=[str,str]\n",
      "If parsing fails due to incorrect types, you can correct\n",
      "the inferred type list above and pass it to read_csv in\n",
      "the column_type_hints argument\n",
      "------------------------------------------------------\n"
     ]
    },
    {
     "data": {
      "text/html": [
       "<pre>Read 49115 lines. Lines per second: 61622.8</pre>"
      ],
      "text/plain": [
       "Read 49115 lines. Lines per second: 61622.8"
      ]
     },
     "metadata": {},
     "output_type": "display_data"
    },
    {
     "data": {
      "text/html": [
       "<pre>Finished parsing file /home/hdhesi/SupervisedML/Assignment4/IMDB_Dataset_mod.csv</pre>"
      ],
      "text/plain": [
       "Finished parsing file /home/hdhesi/SupervisedML/Assignment4/IMDB_Dataset_mod.csv"
      ]
     },
     "metadata": {},
     "output_type": "display_data"
    },
    {
     "data": {
      "text/html": [
       "<pre>Parsing completed. Parsed 50000 lines in 0.810906 secs.</pre>"
      ],
      "text/plain": [
       "Parsing completed. Parsed 50000 lines in 0.810906 secs."
      ]
     },
     "metadata": {},
     "output_type": "display_data"
    },
    {
     "data": {
      "text/html": [
       "<div style=\"max-height:1000px;max-width:1500px;overflow:auto;\"><table frame=\"box\" rules=\"cols\">\n",
       "    <tr>\n",
       "        <th style=\"padding-left: 1em; padding-right: 1em; text-align: center\">review</th>\n",
       "        <th style=\"padding-left: 1em; padding-right: 1em; text-align: center\">sentiment</th>\n",
       "    </tr>\n",
       "    <tr>\n",
       "        <td style=\"padding-left: 1em; padding-right: 1em; text-align: center; vertical-align: top\">One reviewers mentioned<br>after watching 1 Oz ...</td>\n",
       "        <td style=\"padding-left: 1em; padding-right: 1em; text-align: center; vertical-align: top\">positive</td>\n",
       "    </tr>\n",
       "    <tr>\n",
       "        <td style=\"padding-left: 1em; padding-right: 1em; text-align: center; vertical-align: top\"> wonderful little<br>production. &lt; /&gt;&lt; /&gt; ...</td>\n",
       "        <td style=\"padding-left: 1em; padding-right: 1em; text-align: center; vertical-align: top\">positive</td>\n",
       "    </tr>\n",
       "    <tr>\n",
       "        <td style=\"padding-left: 1em; padding-right: 1em; text-align: center; vertical-align: top\"> thought this wonderful<br>way to spend time on too ...</td>\n",
       "        <td style=\"padding-left: 1em; padding-right: 1em; text-align: center; vertical-align: top\">positive</td>\n",
       "    </tr>\n",
       "    <tr>\n",
       "        <td style=\"padding-left: 1em; padding-right: 1em; text-align: center; vertical-align: top\">Basically there&#x27;s family<br>where little boy (Jake) ...</td>\n",
       "        <td style=\"padding-left: 1em; padding-right: 1em; text-align: center; vertical-align: top\">negative</td>\n",
       "    </tr>\n",
       "    <tr>\n",
       "        <td style=\"padding-left: 1em; padding-right: 1em; text-align: center; vertical-align: top\">Petter Mattei&#x27;s &quot;Love in<br>Time Money&quot; visually ...</td>\n",
       "        <td style=\"padding-left: 1em; padding-right: 1em; text-align: center; vertical-align: top\">positive</td>\n",
       "    </tr>\n",
       "    <tr>\n",
       "        <td style=\"padding-left: 1em; padding-right: 1em; text-align: center; vertical-align: top\">Probably my all-time<br>favorite movie, story ...</td>\n",
       "        <td style=\"padding-left: 1em; padding-right: 1em; text-align: center; vertical-align: top\">positive</td>\n",
       "    </tr>\n",
       "    <tr>\n",
       "        <td style=\"padding-left: 1em; padding-right: 1em; text-align: center; vertical-align: top\"> sure like to see<br>resurrection up dated ...</td>\n",
       "        <td style=\"padding-left: 1em; padding-right: 1em; text-align: center; vertical-align: top\">positive</td>\n",
       "    </tr>\n",
       "    <tr>\n",
       "        <td style=\"padding-left: 1em; padding-right: 1em; text-align: center; vertical-align: top\">This show amazing, fresh<br>&amp; innovative idea in  ...</td>\n",
       "        <td style=\"padding-left: 1em; padding-right: 1em; text-align: center; vertical-align: top\">negative</td>\n",
       "    </tr>\n",
       "    <tr>\n",
       "        <td style=\"padding-left: 1em; padding-right: 1em; text-align: center; vertical-align: top\">Encouraged by positive<br>comments about this film ...</td>\n",
       "        <td style=\"padding-left: 1em; padding-right: 1em; text-align: center; vertical-align: top\">negative</td>\n",
       "    </tr>\n",
       "    <tr>\n",
       "        <td style=\"padding-left: 1em; padding-right: 1em; text-align: center; vertical-align: top\">If like original gut<br>wrenching laughter like ...</td>\n",
       "        <td style=\"padding-left: 1em; padding-right: 1em; text-align: center; vertical-align: top\">positive</td>\n",
       "    </tr>\n",
       "</table>\n",
       "[50000 rows x 2 columns]<br/>Note: Only the head of the SFrame is printed.<br/>You can use print_rows(num_rows=m, num_columns=n) to print more rows and columns.\n",
       "</div>"
      ],
      "text/plain": [
       "Columns:\n",
       "\treview\tstr\n",
       "\tsentiment\tstr\n",
       "\n",
       "Rows: 50000\n",
       "\n",
       "Data:\n",
       "+-------------------------------+-----------+\n",
       "|             review            | sentiment |\n",
       "+-------------------------------+-----------+\n",
       "| One reviewers mentioned af... |  positive |\n",
       "|  wonderful little producti... |  positive |\n",
       "|  thought this wonderful wa... |  positive |\n",
       "| Basically there's family w... |  negative |\n",
       "| Petter Mattei's \"Love in T... |  positive |\n",
       "| Probably my all-time favor... |  positive |\n",
       "|  sure like to see resurrec... |  positive |\n",
       "| This show amazing, fresh &... |  negative |\n",
       "| Encouraged by positive com... |  negative |\n",
       "| If like original gut wrenc... |  positive |\n",
       "+-------------------------------+-----------+\n",
       "[50000 rows x 2 columns]\n",
       "Note: Only the head of the SFrame is printed.\n",
       "You can use print_rows(num_rows=m, num_columns=n) to print more rows and columns."
      ]
     },
     "execution_count": 2,
     "metadata": {},
     "output_type": "execute_result"
    }
   ],
   "source": [
    "movies = tc.SFrame('./IMDB_Dataset_mod.csv')\n",
    "movies"
   ]
  },
  {
   "cell_type": "markdown",
   "id": "610fdd80",
   "metadata": {},
   "source": [
    "_3d) Adding a column ' words' to the SFrame to store the count of each word used in each review._\n",
    "\n",
    "_**Printing the SFrame**_"
   ]
  },
  {
   "cell_type": "code",
   "execution_count": 3,
   "id": "24792ea3",
   "metadata": {},
   "outputs": [
    {
     "data": {
      "text/html": [
       "<div style=\"max-height:1000px;max-width:1500px;overflow:auto;\"><table frame=\"box\" rules=\"cols\">\n",
       "    <tr>\n",
       "        <th style=\"padding-left: 1em; padding-right: 1em; text-align: center\">review</th>\n",
       "        <th style=\"padding-left: 1em; padding-right: 1em; text-align: center\">sentiment</th>\n",
       "        <th style=\"padding-left: 1em; padding-right: 1em; text-align: center\">words</th>\n",
       "    </tr>\n",
       "    <tr>\n",
       "        <td style=\"padding-left: 1em; padding-right: 1em; text-align: center; vertical-align: top\">One reviewers mentioned<br>after watching 1 Oz ...</td>\n",
       "        <td style=\"padding-left: 1em; padding-right: 1em; text-align: center; vertical-align: top\">positive</td>\n",
       "        <td style=\"padding-left: 1em; padding-right: 1em; text-align: center; vertical-align: top\">{&#x27;darker&#x27;: 1.0, &#x27;touch&#x27;:<br>1.0, &#x27;thats&#x27;: 1.0, ...</td>\n",
       "    </tr>\n",
       "    <tr>\n",
       "        <td style=\"padding-left: 1em; padding-right: 1em; text-align: center; vertical-align: top\"> wonderful little<br>production. &lt; /&gt;&lt; /&gt; ...</td>\n",
       "        <td style=\"padding-left: 1em; padding-right: 1em; text-align: center; vertical-align: top\">positive</td>\n",
       "        <td style=\"padding-left: 1em; padding-right: 1em; text-align: center; vertical-align: top\">{&#x27;terribly&#x27;: 1.0,<br>&#x27;surface&#x27;: 1.0, ...</td>\n",
       "    </tr>\n",
       "    <tr>\n",
       "        <td style=\"padding-left: 1em; padding-right: 1em; text-align: center; vertical-align: top\"> thought this wonderful<br>way to spend time on too ...</td>\n",
       "        <td style=\"padding-left: 1em; padding-right: 1em; text-align: center; vertical-align: top\">positive</td>\n",
       "        <td style=\"padding-left: 1em; padding-right: 1em; text-align: center; vertical-align: top\">{&#x27;go&#x27;: 1.0, &#x27;great&#x27;: 1.0,<br>&#x27;see&#x27;: 1.0, &#x27;risk&#x27;: 1.0, ...</td>\n",
       "    </tr>\n",
       "    <tr>\n",
       "        <td style=\"padding-left: 1em; padding-right: 1em; text-align: center; vertical-align: top\">Basically there&#x27;s family<br>where little boy (Jake) ...</td>\n",
       "        <td style=\"padding-left: 1em; padding-right: 1em; text-align: center; vertical-align: top\">negative</td>\n",
       "        <td style=\"padding-left: 1em; padding-right: 1em; text-align: center; vertical-align: top\">{&#x27;them&#x27;: 1.0, &#x27;ignore&#x27;:<br>1.0, &#x27;dialogs&#x27;: 1.0, ...</td>\n",
       "    </tr>\n",
       "    <tr>\n",
       "        <td style=\"padding-left: 1em; padding-right: 1em; text-align: center; vertical-align: top\">Petter Mattei&#x27;s &quot;Love in<br>Time Money&quot; visually ...</td>\n",
       "        <td style=\"padding-left: 1em; padding-right: 1em; text-align: center; vertical-align: top\">positive</td>\n",
       "        <td style=\"padding-left: 1em; padding-right: 1em; text-align: center; vertical-align: top\">{&#x27;work&#x27;: 1.0,<br>&#x27;anxiously&#x27;: 1.0, ...</td>\n",
       "    </tr>\n",
       "    <tr>\n",
       "        <td style=\"padding-left: 1em; padding-right: 1em; text-align: center; vertical-align: top\">Probably my all-time<br>favorite movie, story ...</td>\n",
       "        <td style=\"padding-left: 1em; padding-right: 1em; text-align: center; vertical-align: top\">positive</td>\n",
       "        <td style=\"padding-left: 1em; padding-right: 1em; text-align: center; vertical-align: top\">{&#x27;dozen&#x27;: 1.0, &#x27;if&#x27;: 1.0,<br>&#x27;be&#x27;: 1.0, &#x27;startling&#x27;: ...</td>\n",
       "    </tr>\n",
       "    <tr>\n",
       "        <td style=\"padding-left: 1em; padding-right: 1em; text-align: center; vertical-align: top\"> sure like to see<br>resurrection up dated ...</td>\n",
       "        <td style=\"padding-left: 1em; padding-right: 1em; text-align: center; vertical-align: top\">positive</td>\n",
       "        <td style=\"padding-left: 1em; padding-right: 1em; text-align: center; vertical-align: top\">{&#x27;it&#x27;: 1.0, &#x27;then&#x27;: 1.0,<br>&#x27;doubt&#x27;: 1.0, &#x27;out&#x27;:  ...</td>\n",
       "    </tr>\n",
       "    <tr>\n",
       "        <td style=\"padding-left: 1em; padding-right: 1em; text-align: center; vertical-align: top\">This show amazing, fresh<br>&amp; innovative idea in  ...</td>\n",
       "        <td style=\"padding-left: 1em; padding-right: 1em; text-align: center; vertical-align: top\">negative</td>\n",
       "        <td style=\"padding-left: 1em; padding-right: 1em; text-align: center; vertical-align: top\">{&#x27;awful&#x27;: 1.0, &#x27;now&#x27;:<br>1.0, &#x27;success&#x27;: 1.0, ...</td>\n",
       "    </tr>\n",
       "    <tr>\n",
       "        <td style=\"padding-left: 1em; padding-right: 1em; text-align: center; vertical-align: top\">Encouraged by positive<br>comments about this film ...</td>\n",
       "        <td style=\"padding-left: 1em; padding-right: 1em; text-align: center; vertical-align: top\">negative</td>\n",
       "        <td style=\"padding-left: 1em; padding-right: 1em; text-align: center; vertical-align: top\">{&#x27;obsessives&#x27;: 1.0,<br>&#x27;effort&#x27;: 1.0, &#x27;making&#x27;: ...</td>\n",
       "    </tr>\n",
       "    <tr>\n",
       "        <td style=\"padding-left: 1em; padding-right: 1em; text-align: center; vertical-align: top\">If like original gut<br>wrenching laughter like ...</td>\n",
       "        <td style=\"padding-left: 1em; padding-right: 1em; text-align: center; vertical-align: top\">positive</td>\n",
       "        <td style=\"padding-left: 1em; padding-right: 1em; text-align: center; vertical-align: top\">{&#x27;mom&#x27;: 1.0, &#x27;my&#x27;: 1.0,<br>&#x27;hell&#x27;: 1.0, &#x27;great&#x27;: ...</td>\n",
       "    </tr>\n",
       "</table>\n",
       "[50000 rows x 3 columns]<br/>Note: Only the head of the SFrame is printed.<br/>You can use print_rows(num_rows=m, num_columns=n) to print more rows and columns.\n",
       "</div>"
      ],
      "text/plain": [
       "Columns:\n",
       "\treview\tstr\n",
       "\tsentiment\tstr\n",
       "\twords\tdict\n",
       "\n",
       "Rows: 50000\n",
       "\n",
       "Data:\n",
       "+-------------------------------+-----------+-------------------------------+\n",
       "|             review            | sentiment |             words             |\n",
       "+-------------------------------+-----------+-------------------------------+\n",
       "| One reviewers mentioned af... |  positive | {'darker': 1.0, 'touch': 1... |\n",
       "|  wonderful little producti... |  positive | {'terribly': 1.0, 'surface... |\n",
       "|  thought this wonderful wa... |  positive | {'go': 1.0, 'great': 1.0, ... |\n",
       "| Basically there's family w... |  negative | {'them': 1.0, 'ignore': 1.... |\n",
       "| Petter Mattei's \"Love in T... |  positive | {'work': 1.0, 'anxiously':... |\n",
       "| Probably my all-time favor... |  positive | {'dozen': 1.0, 'if': 1.0, ... |\n",
       "|  sure like to see resurrec... |  positive | {'it': 1.0, 'then': 1.0, '... |\n",
       "| This show amazing, fresh &... |  negative | {'awful': 1.0, 'now': 1.0,... |\n",
       "| Encouraged by positive com... |  negative | {'obsessives': 1.0, 'effor... |\n",
       "| If like original gut wrenc... |  positive | {'mom': 1.0, 'my': 1.0, 'h... |\n",
       "+-------------------------------+-----------+-------------------------------+\n",
       "[50000 rows x 3 columns]\n",
       "Note: Only the head of the SFrame is printed.\n",
       "You can use print_rows(num_rows=m, num_columns=n) to print more rows and columns."
      ]
     },
     "execution_count": 3,
     "metadata": {},
     "output_type": "execute_result"
    }
   ],
   "source": [
    "movies['words'] = tc.text_analytics.count_words(movies['review'])\n",
    "movies"
   ]
  },
  {
   "cell_type": "markdown",
   "id": "70b95053",
   "metadata": {},
   "source": [
    "_3e) Randomly splitting the data into training and testing data, with 80% data in the training set and remaining 20% in the testing set._"
   ]
  },
  {
   "cell_type": "code",
   "execution_count": 4,
   "id": "c9dce14e",
   "metadata": {},
   "outputs": [],
   "source": [
    "train, test = movies.random_split(.8, seed=0)"
   ]
  },
  {
   "cell_type": "markdown",
   "id": "2700ba89",
   "metadata": {},
   "source": [
    "_3f) Creating a logistic Classifier that uses both L1 and L2 penalty of my choice (L1 penalty = 0.0, L2 penalty = 0.01) and training it on training data._"
   ]
  },
  {
   "cell_type": "code",
   "execution_count": 5,
   "id": "6af72b59",
   "metadata": {},
   "outputs": [
    {
     "name": "stdout",
     "output_type": "stream",
     "text": [
      "PROGRESS: Creating a validation set from 5 percent of training data. This may take a while.\n",
      "          You can set ``validation_set=None`` to disable validation tracking.\n",
      "\n"
     ]
    },
    {
     "data": {
      "text/html": [
       "<pre>Logistic regression:</pre>"
      ],
      "text/plain": [
       "Logistic regression:"
      ]
     },
     "metadata": {},
     "output_type": "display_data"
    },
    {
     "data": {
      "text/html": [
       "<pre>--------------------------------------------------------</pre>"
      ],
      "text/plain": [
       "--------------------------------------------------------"
      ]
     },
     "metadata": {},
     "output_type": "display_data"
    },
    {
     "data": {
      "text/html": [
       "<pre>Number of examples          : 38030</pre>"
      ],
      "text/plain": [
       "Number of examples          : 38030"
      ]
     },
     "metadata": {},
     "output_type": "display_data"
    },
    {
     "data": {
      "text/html": [
       "<pre>Number of classes           : 2</pre>"
      ],
      "text/plain": [
       "Number of classes           : 2"
      ]
     },
     "metadata": {},
     "output_type": "display_data"
    },
    {
     "data": {
      "text/html": [
       "<pre>Number of feature columns   : 1</pre>"
      ],
      "text/plain": [
       "Number of feature columns   : 1"
      ]
     },
     "metadata": {},
     "output_type": "display_data"
    },
    {
     "data": {
      "text/html": [
       "<pre>Number of unpacked features : 92600</pre>"
      ],
      "text/plain": [
       "Number of unpacked features : 92600"
      ]
     },
     "metadata": {},
     "output_type": "display_data"
    },
    {
     "data": {
      "text/html": [
       "<pre>Number of coefficients      : 92601</pre>"
      ],
      "text/plain": [
       "Number of coefficients      : 92601"
      ]
     },
     "metadata": {},
     "output_type": "display_data"
    },
    {
     "data": {
      "text/html": [
       "<pre>Starting L-BFGS</pre>"
      ],
      "text/plain": [
       "Starting L-BFGS"
      ]
     },
     "metadata": {},
     "output_type": "display_data"
    },
    {
     "data": {
      "text/html": [
       "<pre>--------------------------------------------------------</pre>"
      ],
      "text/plain": [
       "--------------------------------------------------------"
      ]
     },
     "metadata": {},
     "output_type": "display_data"
    },
    {
     "data": {
      "text/html": [
       "<pre>+-----------+----------+-----------+--------------+-------------------+---------------------+</pre>"
      ],
      "text/plain": [
       "+-----------+----------+-----------+--------------+-------------------+---------------------+"
      ]
     },
     "metadata": {},
     "output_type": "display_data"
    },
    {
     "data": {
      "text/html": [
       "<pre>| Iteration | Passes   | Step size | Elapsed Time | Training Accuracy | Validation Accuracy |</pre>"
      ],
      "text/plain": [
       "| Iteration | Passes   | Step size | Elapsed Time | Training Accuracy | Validation Accuracy |"
      ]
     },
     "metadata": {},
     "output_type": "display_data"
    },
    {
     "data": {
      "text/html": [
       "<pre>+-----------+----------+-----------+--------------+-------------------+---------------------+</pre>"
      ],
      "text/plain": [
       "+-----------+----------+-----------+--------------+-------------------+---------------------+"
      ]
     },
     "metadata": {},
     "output_type": "display_data"
    },
    {
     "data": {
      "text/html": [
       "<pre>| 0         | 2        | 1.000000  | 1.117250     | 0.926085          | 0.855145            |</pre>"
      ],
      "text/plain": [
       "| 0         | 2        | 1.000000  | 1.117250     | 0.926085          | 0.855145            |"
      ]
     },
     "metadata": {},
     "output_type": "display_data"
    },
    {
     "data": {
      "text/html": [
       "<pre>| 1         | 4        | 1.000000  | 1.256063     | 0.970813          | 0.865135            |</pre>"
      ],
      "text/plain": [
       "| 1         | 4        | 1.000000  | 1.256063     | 0.970813          | 0.865135            |"
      ]
     },
     "metadata": {},
     "output_type": "display_data"
    },
    {
     "data": {
      "text/html": [
       "<pre>| 2         | 5        | 1.000000  | 1.343426     | 0.980936          | 0.889111            |</pre>"
      ],
      "text/plain": [
       "| 2         | 5        | 1.000000  | 1.343426     | 0.980936          | 0.889111            |"
      ]
     },
     "metadata": {},
     "output_type": "display_data"
    },
    {
     "data": {
      "text/html": [
       "<pre>| 3         | 7        | 0.975237  | 1.478998     | 0.986984          | 0.892607            |</pre>"
      ],
      "text/plain": [
       "| 3         | 7        | 0.975237  | 1.478998     | 0.986984          | 0.892607            |"
      ]
     },
     "metadata": {},
     "output_type": "display_data"
    },
    {
     "data": {
      "text/html": [
       "<pre>| 4         | 8        | 1.000000  | 1.572172     | 0.992217          | 0.895604            |</pre>"
      ],
      "text/plain": [
       "| 4         | 8        | 1.000000  | 1.572172     | 0.992217          | 0.895604            |"
      ]
     },
     "metadata": {},
     "output_type": "display_data"
    },
    {
     "data": {
      "text/html": [
       "<pre>| 9         | 13       | 1.000000  | 2.034029     | 0.999448          | 0.868132            |</pre>"
      ],
      "text/plain": [
       "| 9         | 13       | 1.000000  | 2.034029     | 0.999448          | 0.868132            |"
      ]
     },
     "metadata": {},
     "output_type": "display_data"
    },
    {
     "data": {
      "text/html": [
       "<pre>+-----------+----------+-----------+--------------+-------------------+---------------------+</pre>"
      ],
      "text/plain": [
       "+-----------+----------+-----------+--------------+-------------------+---------------------+"
      ]
     },
     "metadata": {},
     "output_type": "display_data"
    }
   ],
   "source": [
    "model = tc.logistic_classifier.create(train, features=['words'], target='sentiment', l1_penalty = 0.0, l2_penalty = 0.01)"
   ]
  },
  {
   "cell_type": "markdown",
   "id": "b2d7c873",
   "metadata": {},
   "source": [
    "_The_ _**Training accuracy**_ _comes out to be_ _**0.999448 (99.94%)**_ _and the_ _**Validation accuracy**_ _is_ _**0.868132 (86.81%)**_.     \n",
    "\n",
    "_**Printing the model**_"
   ]
  },
  {
   "cell_type": "code",
   "execution_count": 6,
   "id": "3106010c",
   "metadata": {},
   "outputs": [
    {
     "data": {
      "text/plain": [
       "Class                          : LogisticClassifier\n",
       "\n",
       "Schema\n",
       "------\n",
       "Number of coefficients         : 92601\n",
       "Number of examples             : 38030\n",
       "Number of classes              : 2\n",
       "Number of feature columns      : 1\n",
       "Number of unpacked features    : 92600\n",
       "\n",
       "Hyperparameters\n",
       "---------------\n",
       "L1 penalty                     : 0.0\n",
       "L2 penalty                     : 0.01\n",
       "\n",
       "Training Summary\n",
       "----------------\n",
       "Solver                         : lbfgs\n",
       "Solver iterations              : 10\n",
       "Solver status                  : Completed (Iteration limit reached).\n",
       "Training time (sec)            : 0.6763\n",
       "\n",
       "Settings\n",
       "--------\n",
       "Log-likelihood                 : 215.6778\n",
       "\n",
       "Highest Positive Coefficients\n",
       "-----------------------------\n",
       "words[scribble]                : 19.1596\n",
       "words[videozone]               : 17.8375\n",
       "words[whirry]                  : 17.5098\n",
       "words[nighteyes]               : 17.5098\n",
       "words[tensionate]              : 17.3835\n",
       "\n",
       "Lowest Negative Coefficients\n",
       "----------------------------\n",
       "words[newlwed]                 : -15.0679\n",
       "words[unfortuntately]          : -14.9662\n",
       "words[hardiman]                : -14.8211\n",
       "words[untraditional]           : -14.2871\n",
       "words[carribean]               : -14.1232"
      ]
     },
     "execution_count": 6,
     "metadata": {},
     "output_type": "execute_result"
    }
   ],
   "source": [
    "model"
   ]
  },
  {
   "cell_type": "markdown",
   "id": "262eddd5",
   "metadata": {},
   "source": [
    "_3g) Evaluating the model using the testing data, from which the_ _**Testing accuracy**_ _comes out to be_ _**0.8696829855537721 (≈ 87.00%)**_."
   ]
  },
  {
   "cell_type": "code",
   "execution_count": 7,
   "id": "b892c8c2",
   "metadata": {},
   "outputs": [
    {
     "data": {
      "text/plain": [
       "{'accuracy': 0.8696829855537721,\n",
       " 'auc': 0.9249718184658277,\n",
       " 'confusion_matrix': Columns:\n",
       " \ttarget_label\tstr\n",
       " \tpredicted_label\tstr\n",
       " \tcount\tint\n",
       " \n",
       " Rows: 4\n",
       " \n",
       " Data:\n",
       " +--------------+-----------------+-------+\n",
       " | target_label | predicted_label | count |\n",
       " +--------------+-----------------+-------+\n",
       " |   negative   |     positive    |  686  |\n",
       " |   positive   |     positive    |  4335 |\n",
       " |   positive   |     negative    |  613  |\n",
       " |   negative   |     negative    |  4334 |\n",
       " +--------------+-----------------+-------+\n",
       " [4 rows x 3 columns],\n",
       " 'f1_score': 0.8696960577791153,\n",
       " 'log_loss': 0.5506709434745038,\n",
       " 'precision': 0.8633738299143597,\n",
       " 'recall': 0.8761115602263541,\n",
       " 'roc_curve': Columns:\n",
       " \tthreshold\tfloat\n",
       " \tfpr\tfloat\n",
       " \ttpr\tfloat\n",
       " \tp\tint\n",
       " \tn\tint\n",
       " \n",
       " Rows: 1001\n",
       " \n",
       " Data:\n",
       " +-----------+---------------------+--------------------+------+------+\n",
       " | threshold |         fpr         |        tpr         |  p   |  n   |\n",
       " +-----------+---------------------+--------------------+------+------+\n",
       " |    0.0    |         1.0         |        1.0         | 4948 | 5020 |\n",
       " |   0.001   |  0.5314741035856574 | 0.9785772029102667 | 4948 | 5020 |\n",
       " |   0.002   |  0.4888446215139442 | 0.975141471301536  | 4948 | 5020 |\n",
       " |   0.003   | 0.46334661354581674 | 0.9708973322554567 | 4948 | 5020 |\n",
       " |   0.004   |  0.4448207171314741 | 0.9686742118027486 | 4948 | 5020 |\n",
       " |   0.005   |  0.4284860557768924 | 0.9674616006467259 | 4948 | 5020 |\n",
       " |   0.006   |  0.4131474103585657 | 0.9662489894907034 | 4948 | 5020 |\n",
       " |   0.007   | 0.40298804780876496 | 0.9644300727566694 | 4948 | 5020 |\n",
       " |   0.008   |  0.3938247011952191 | 0.9626111560226354 | 4948 | 5020 |\n",
       " |   0.009   |  0.3858565737051793 | 0.961802748585287  | 4948 | 5020 |\n",
       " +-----------+---------------------+--------------------+------+------+\n",
       " [1001 rows x 5 columns]\n",
       " Note: Only the head of the SFrame is printed.\n",
       " You can use print_rows(num_rows=m, num_columns=n) to print more rows and columns.}"
      ]
     },
     "execution_count": 7,
     "metadata": {},
     "output_type": "execute_result"
    }
   ],
   "source": [
    "model.evaluate(test)"
   ]
  },
  {
   "cell_type": "markdown",
   "id": "1717d753",
   "metadata": {},
   "source": [
    "_3h) Creating a table of L1 and L2 penalties, based on which the models will be trained and the corresponing accuracies will be noted._\n",
    "\n",
    "| | L1 penalty| L2 penalty |\n",
    "| --- | --- | --- |\n",
    "| 0 | 0.0 | 0.01 |\n",
    "| 1 | 0.0 | 0.0 | \n",
    "| 2 | 0.1 | 0.0 |\n",
    "| 3 | 0.1 | 0.01| \n",
    "| 4 | 0.0 | 0.001 |\n",
    "| 5 | 1.0 | 1.0 |\n",
    "| 6 | 0.0 | 1.0 |"
   ]
  },
  {
   "cell_type": "code",
   "execution_count": 8,
   "id": "2950dbfd",
   "metadata": {},
   "outputs": [
    {
     "name": "stdout",
     "output_type": "stream",
     "text": [
      "PROGRESS: Creating a validation set from 5 percent of training data. This may take a while.\n",
      "          You can set ``validation_set=None`` to disable validation tracking.\n",
      "\n"
     ]
    },
    {
     "data": {
      "text/html": [
       "<pre>Logistic regression:</pre>"
      ],
      "text/plain": [
       "Logistic regression:"
      ]
     },
     "metadata": {},
     "output_type": "display_data"
    },
    {
     "data": {
      "text/html": [
       "<pre>--------------------------------------------------------</pre>"
      ],
      "text/plain": [
       "--------------------------------------------------------"
      ]
     },
     "metadata": {},
     "output_type": "display_data"
    },
    {
     "data": {
      "text/html": [
       "<pre>Number of examples          : 38030</pre>"
      ],
      "text/plain": [
       "Number of examples          : 38030"
      ]
     },
     "metadata": {},
     "output_type": "display_data"
    },
    {
     "data": {
      "text/html": [
       "<pre>Number of classes           : 2</pre>"
      ],
      "text/plain": [
       "Number of classes           : 2"
      ]
     },
     "metadata": {},
     "output_type": "display_data"
    },
    {
     "data": {
      "text/html": [
       "<pre>Number of feature columns   : 1</pre>"
      ],
      "text/plain": [
       "Number of feature columns   : 1"
      ]
     },
     "metadata": {},
     "output_type": "display_data"
    },
    {
     "data": {
      "text/html": [
       "<pre>Number of unpacked features : 92611</pre>"
      ],
      "text/plain": [
       "Number of unpacked features : 92611"
      ]
     },
     "metadata": {},
     "output_type": "display_data"
    },
    {
     "data": {
      "text/html": [
       "<pre>Number of coefficients      : 92612</pre>"
      ],
      "text/plain": [
       "Number of coefficients      : 92612"
      ]
     },
     "metadata": {},
     "output_type": "display_data"
    },
    {
     "data": {
      "text/html": [
       "<pre>Starting L-BFGS</pre>"
      ],
      "text/plain": [
       "Starting L-BFGS"
      ]
     },
     "metadata": {},
     "output_type": "display_data"
    },
    {
     "data": {
      "text/html": [
       "<pre>--------------------------------------------------------</pre>"
      ],
      "text/plain": [
       "--------------------------------------------------------"
      ]
     },
     "metadata": {},
     "output_type": "display_data"
    },
    {
     "data": {
      "text/html": [
       "<pre>+-----------+----------+-----------+--------------+-------------------+---------------------+</pre>"
      ],
      "text/plain": [
       "+-----------+----------+-----------+--------------+-------------------+---------------------+"
      ]
     },
     "metadata": {},
     "output_type": "display_data"
    },
    {
     "data": {
      "text/html": [
       "<pre>| Iteration | Passes   | Step size | Elapsed Time | Training Accuracy | Validation Accuracy |</pre>"
      ],
      "text/plain": [
       "| Iteration | Passes   | Step size | Elapsed Time | Training Accuracy | Validation Accuracy |"
      ]
     },
     "metadata": {},
     "output_type": "display_data"
    },
    {
     "data": {
      "text/html": [
       "<pre>+-----------+----------+-----------+--------------+-------------------+---------------------+</pre>"
      ],
      "text/plain": [
       "+-----------+----------+-----------+--------------+-------------------+---------------------+"
      ]
     },
     "metadata": {},
     "output_type": "display_data"
    },
    {
     "data": {
      "text/html": [
       "<pre>| 0         | 2        | 1.000000  | 0.087228     | 0.925769          | 0.849151            |</pre>"
      ],
      "text/plain": [
       "| 0         | 2        | 1.000000  | 0.087228     | 0.925769          | 0.849151            |"
      ]
     },
     "metadata": {},
     "output_type": "display_data"
    },
    {
     "data": {
      "text/html": [
       "<pre>| 1         | 4        | 1.000000  | 0.206626     | 0.965816          | 0.869630            |</pre>"
      ],
      "text/plain": [
       "| 1         | 4        | 1.000000  | 0.206626     | 0.965816          | 0.869630            |"
      ]
     },
     "metadata": {},
     "output_type": "display_data"
    },
    {
     "data": {
      "text/html": [
       "<pre>| 2         | 5        | 1.000000  | 0.284365     | 0.982961          | 0.888112            |</pre>"
      ],
      "text/plain": [
       "| 2         | 5        | 1.000000  | 0.284365     | 0.982961          | 0.888112            |"
      ]
     },
     "metadata": {},
     "output_type": "display_data"
    },
    {
     "data": {
      "text/html": [
       "<pre>| 3         | 6        | 1.000000  | 0.359781     | 0.986484          | 0.889610            |</pre>"
      ],
      "text/plain": [
       "| 3         | 6        | 1.000000  | 0.359781     | 0.986484          | 0.889610            |"
      ]
     },
     "metadata": {},
     "output_type": "display_data"
    },
    {
     "data": {
      "text/html": [
       "<pre>| 4         | 7        | 1.000000  | 0.438211     | 0.992637          | 0.897602            |</pre>"
      ],
      "text/plain": [
       "| 4         | 7        | 1.000000  | 0.438211     | 0.992637          | 0.897602            |"
      ]
     },
     "metadata": {},
     "output_type": "display_data"
    },
    {
     "data": {
      "text/html": [
       "<pre>| 9         | 12       | 1.000000  | 0.842313     | 0.999921          | 0.877123            |</pre>"
      ],
      "text/plain": [
       "| 9         | 12       | 1.000000  | 0.842313     | 0.999921          | 0.877123            |"
      ]
     },
     "metadata": {},
     "output_type": "display_data"
    },
    {
     "data": {
      "text/html": [
       "<pre>+-----------+----------+-----------+--------------+-------------------+---------------------+</pre>"
      ],
      "text/plain": [
       "+-----------+----------+-----------+--------------+-------------------+---------------------+"
      ]
     },
     "metadata": {},
     "output_type": "display_data"
    }
   ],
   "source": [
    "model_1 = tc.logistic_classifier.create(train, features=['words'], target='sentiment', l1_penalty = 0.0, l2_penalty = 0.0)"
   ]
  },
  {
   "cell_type": "code",
   "execution_count": 9,
   "id": "6e15ed24",
   "metadata": {},
   "outputs": [
    {
     "data": {
      "text/plain": [
       "Class                          : LogisticClassifier\n",
       "\n",
       "Schema\n",
       "------\n",
       "Number of coefficients         : 92612\n",
       "Number of examples             : 38030\n",
       "Number of classes              : 2\n",
       "Number of feature columns      : 1\n",
       "Number of unpacked features    : 92611\n",
       "\n",
       "Hyperparameters\n",
       "---------------\n",
       "L1 penalty                     : 0.0\n",
       "L2 penalty                     : 0.0\n",
       "\n",
       "Training Summary\n",
       "----------------\n",
       "Solver                         : lbfgs\n",
       "Solver iterations              : 10\n",
       "Solver status                  : Completed (Iteration limit reached).\n",
       "Training time (sec)            : 0.5103\n",
       "\n",
       "Settings\n",
       "--------\n",
       "Log-likelihood                 : 167.4288\n",
       "\n",
       "Highest Positive Coefficients\n",
       "-----------------------------\n",
       "words[sassier]                 : 35.211\n",
       "words[wrangles]                : 35.211\n",
       "words[scribble]                : 19.8448\n",
       "words[anansie]                 : 17.0685\n",
       "words[27x41]                   : 16.62\n",
       "\n",
       "Lowest Negative Coefficients\n",
       "----------------------------\n",
       "words[galleghar]               : -16.861\n",
       "words[newlwed]                 : -16.219\n",
       "words[milwaulkee]              : -16.027\n",
       "words[homesteader]             : -15.9571\n",
       "words[punctuality]             : -15.9465"
      ]
     },
     "execution_count": 9,
     "metadata": {},
     "output_type": "execute_result"
    }
   ],
   "source": [
    "model_1"
   ]
  },
  {
   "cell_type": "code",
   "execution_count": 10,
   "id": "bd8a98eb",
   "metadata": {},
   "outputs": [
    {
     "data": {
      "text/plain": [
       "{'accuracy': 0.8678772070626003,\n",
       " 'auc': 0.9206588158280387,\n",
       " 'confusion_matrix': Columns:\n",
       " \ttarget_label\tstr\n",
       " \tpredicted_label\tstr\n",
       " \tcount\tint\n",
       " \n",
       " Rows: 4\n",
       " \n",
       " Data:\n",
       " +--------------+-----------------+-------+\n",
       " | target_label | predicted_label | count |\n",
       " +--------------+-----------------+-------+\n",
       " |   negative   |     positive    |  677  |\n",
       " |   positive   |     positive    |  4308 |\n",
       " |   positive   |     negative    |  640  |\n",
       " |   negative   |     negative    |  4343 |\n",
       " +--------------+-----------------+-------+\n",
       " [4 rows x 3 columns],\n",
       " 'f1_score': 0.8674116581093326,\n",
       " 'log_loss': 0.640983340009139,\n",
       " 'precision': 0.8641925777331996,\n",
       " 'recall': 0.8706548100242523,\n",
       " 'roc_curve': Columns:\n",
       " \tthreshold\tfloat\n",
       " \tfpr\tfloat\n",
       " \ttpr\tfloat\n",
       " \tp\tint\n",
       " \tn\tint\n",
       " \n",
       " Rows: 1001\n",
       " \n",
       " Data:\n",
       " +-----------+---------------------+--------------------+------+------+\n",
       " | threshold |         fpr         |        tpr         |  p   |  n   |\n",
       " +-----------+---------------------+--------------------+------+------+\n",
       " |    0.0    |         1.0         |        1.0         | 4948 | 5020 |\n",
       " |   0.001   |  0.4631474103585657 | 0.9702910266774454 | 4948 | 5020 |\n",
       " |   0.002   |  0.4249003984063745 | 0.9658447857720291 | 4948 | 5020 |\n",
       " |   0.003   |  0.400996015936255  | 0.9624090541632982 | 4948 | 5020 |\n",
       " |   0.004   | 0.38326693227091635 | 0.9597817299919159 | 4948 | 5020 |\n",
       " |   0.005   |  0.3727091633466135 | 0.9577607113985449 | 4948 | 5020 |\n",
       " |   0.006   |  0.3637450199203187 | 0.9559417946645109 | 4948 | 5020 |\n",
       " |   0.007   |  0.3539840637450199 | 0.9547291835084882 | 4948 | 5020 |\n",
       " |   0.008   | 0.34601593625498006 | 0.9539207760711399 | 4948 | 5020 |\n",
       " |   0.009   | 0.33924302788844624 | 0.9527081649151172 | 4948 | 5020 |\n",
       " +-----------+---------------------+--------------------+------+------+\n",
       " [1001 rows x 5 columns]\n",
       " Note: Only the head of the SFrame is printed.\n",
       " You can use print_rows(num_rows=m, num_columns=n) to print more rows and columns.}"
      ]
     },
     "execution_count": 10,
     "metadata": {},
     "output_type": "execute_result"
    }
   ],
   "source": [
    "model_1.evaluate(test)"
   ]
  },
  {
   "cell_type": "code",
   "execution_count": 11,
   "id": "000579aa",
   "metadata": {},
   "outputs": [
    {
     "name": "stdout",
     "output_type": "stream",
     "text": [
      "PROGRESS: Creating a validation set from 5 percent of training data. This may take a while.\n",
      "          You can set ``validation_set=None`` to disable validation tracking.\n",
      "\n"
     ]
    },
    {
     "data": {
      "text/html": [
       "<pre>Logistic regression:</pre>"
      ],
      "text/plain": [
       "Logistic regression:"
      ]
     },
     "metadata": {},
     "output_type": "display_data"
    },
    {
     "data": {
      "text/html": [
       "<pre>--------------------------------------------------------</pre>"
      ],
      "text/plain": [
       "--------------------------------------------------------"
      ]
     },
     "metadata": {},
     "output_type": "display_data"
    },
    {
     "data": {
      "text/html": [
       "<pre>Number of examples          : 38030</pre>"
      ],
      "text/plain": [
       "Number of examples          : 38030"
      ]
     },
     "metadata": {},
     "output_type": "display_data"
    },
    {
     "data": {
      "text/html": [
       "<pre>Number of classes           : 2</pre>"
      ],
      "text/plain": [
       "Number of classes           : 2"
      ]
     },
     "metadata": {},
     "output_type": "display_data"
    },
    {
     "data": {
      "text/html": [
       "<pre>Number of feature columns   : 1</pre>"
      ],
      "text/plain": [
       "Number of feature columns   : 1"
      ]
     },
     "metadata": {},
     "output_type": "display_data"
    },
    {
     "data": {
      "text/html": [
       "<pre>Number of unpacked features : 92715</pre>"
      ],
      "text/plain": [
       "Number of unpacked features : 92715"
      ]
     },
     "metadata": {},
     "output_type": "display_data"
    },
    {
     "data": {
      "text/html": [
       "<pre>Number of coefficients      : 92716</pre>"
      ],
      "text/plain": [
       "Number of coefficients      : 92716"
      ]
     },
     "metadata": {},
     "output_type": "display_data"
    },
    {
     "data": {
      "text/html": [
       "<pre>Starting Accelerated Gradient (FISTA)</pre>"
      ],
      "text/plain": [
       "Starting Accelerated Gradient (FISTA)"
      ]
     },
     "metadata": {},
     "output_type": "display_data"
    },
    {
     "data": {
      "text/html": [
       "<pre>--------------------------------------------------------</pre>"
      ],
      "text/plain": [
       "--------------------------------------------------------"
      ]
     },
     "metadata": {},
     "output_type": "display_data"
    },
    {
     "data": {
      "text/html": [
       "<pre>Tuning step size. First iteration could take longer than subsequent iterations.</pre>"
      ],
      "text/plain": [
       "Tuning step size. First iteration could take longer than subsequent iterations."
      ]
     },
     "metadata": {},
     "output_type": "display_data"
    },
    {
     "data": {
      "text/html": [
       "<pre>+-----------+----------+-----------+--------------+-------------------+---------------------+</pre>"
      ],
      "text/plain": [
       "+-----------+----------+-----------+--------------+-------------------+---------------------+"
      ]
     },
     "metadata": {},
     "output_type": "display_data"
    },
    {
     "data": {
      "text/html": [
       "<pre>| Iteration | Passes   | Step size | Elapsed Time | Training Accuracy | Validation Accuracy |</pre>"
      ],
      "text/plain": [
       "| Iteration | Passes   | Step size | Elapsed Time | Training Accuracy | Validation Accuracy |"
      ]
     },
     "metadata": {},
     "output_type": "display_data"
    },
    {
     "data": {
      "text/html": [
       "<pre>+-----------+----------+-----------+--------------+-------------------+---------------------+</pre>"
      ],
      "text/plain": [
       "+-----------+----------+-----------+--------------+-------------------+---------------------+"
      ]
     },
     "metadata": {},
     "output_type": "display_data"
    },
    {
     "data": {
      "text/html": [
       "<pre>| 0         | 1        | 1.000000  | 0.047946     | 0.500210          | 0.513986            |</pre>"
      ],
      "text/plain": [
       "| 0         | 1        | 1.000000  | 0.047946     | 0.500210          | 0.513986            |"
      ]
     },
     "metadata": {},
     "output_type": "display_data"
    },
    {
     "data": {
      "text/html": [
       "<pre>| 1         | 2        | 0.000008  | 1.311521     | 0.925953          | 0.848152            |</pre>"
      ],
      "text/plain": [
       "| 1         | 2        | 0.000008  | 1.311521     | 0.925953          | 0.848152            |"
      ]
     },
     "metadata": {},
     "output_type": "display_data"
    },
    {
     "data": {
      "text/html": [
       "<pre>| 2         | 3        | 0.000008  | 1.432297     | 0.956666          | 0.867632            |</pre>"
      ],
      "text/plain": [
       "| 2         | 3        | 0.000008  | 1.432297     | 0.956666          | 0.867632            |"
      ]
     },
     "metadata": {},
     "output_type": "display_data"
    },
    {
     "data": {
      "text/html": [
       "<pre>| 3         | 4        | 0.000003  | 1.632728     | 0.970024          | 0.882118            |</pre>"
      ],
      "text/plain": [
       "| 3         | 4        | 0.000003  | 1.632728     | 0.970024          | 0.882118            |"
      ]
     },
     "metadata": {},
     "output_type": "display_data"
    },
    {
     "data": {
      "text/html": [
       "<pre>| 4         | 5        | 0.000003  | 1.745757     | 0.973389          | 0.875624            |</pre>"
      ],
      "text/plain": [
       "| 4         | 5        | 0.000003  | 1.745757     | 0.973389          | 0.875624            |"
      ]
     },
     "metadata": {},
     "output_type": "display_data"
    },
    {
     "data": {
      "text/html": [
       "<pre>+-----------+----------+-----------+--------------+-------------------+---------------------+</pre>"
      ],
      "text/plain": [
       "+-----------+----------+-----------+--------------+-------------------+---------------------+"
      ]
     },
     "metadata": {},
     "output_type": "display_data"
    },
    {
     "data": {
      "text/html": [
       "<pre>SUCCESS: Optimal solution found.</pre>"
      ],
      "text/plain": [
       "SUCCESS: Optimal solution found."
      ]
     },
     "metadata": {},
     "output_type": "display_data"
    },
    {
     "data": {
      "text/html": [
       "<pre></pre>"
      ],
      "text/plain": []
     },
     "metadata": {},
     "output_type": "display_data"
    }
   ],
   "source": [
    "model_2 = tc.logistic_classifier.create(train, features=['words'], target='sentiment', l1_penalty = 0.1, l2_penalty = 0.0)"
   ]
  },
  {
   "cell_type": "code",
   "execution_count": 12,
   "id": "418658f1",
   "metadata": {},
   "outputs": [
    {
     "data": {
      "text/plain": [
       "Class                          : LogisticClassifier\n",
       "\n",
       "Schema\n",
       "------\n",
       "Number of coefficients         : 92716\n",
       "Number of examples             : 38030\n",
       "Number of classes              : 2\n",
       "Number of feature columns      : 1\n",
       "Number of unpacked features    : 92715\n",
       "\n",
       "Hyperparameters\n",
       "---------------\n",
       "L1 penalty                     : 0.1\n",
       "L2 penalty                     : 0.0\n",
       "\n",
       "Training Summary\n",
       "----------------\n",
       "Solver                         : fista\n",
       "Solver iterations              : 4\n",
       "Solver status                  : SUCCESS: Optimal solution found.\n",
       "Training time (sec)            : 1.783\n",
       "\n",
       "Settings\n",
       "--------\n",
       "Log-likelihood                 : 8600.5424\n",
       "\n",
       "Highest Positive Coefficients\n",
       "-----------------------------\n",
       "words[whirry]                  : 0.7565\n",
       "words[nighteyes]               : 0.7565\n",
       "words[videozone]               : 0.7505\n",
       "words[midichlorians]           : 0.7299\n",
       "words[conaughey]               : 0.7199\n",
       "\n",
       "Lowest Negative Coefficients\n",
       "----------------------------\n",
       "words[milwaulkee]              : -0.7163\n",
       "words[punctuality]             : -0.6983\n",
       "words[dramatism]               : -0.6983\n",
       "words[unfortuntately]          : -0.6876\n",
       "words[carribean]               : -0.6709"
      ]
     },
     "execution_count": 12,
     "metadata": {},
     "output_type": "execute_result"
    }
   ],
   "source": [
    "model_2"
   ]
  },
  {
   "cell_type": "code",
   "execution_count": 13,
   "id": "b39b39b5",
   "metadata": {},
   "outputs": [
    {
     "data": {
      "text/plain": [
       "{'accuracy': 0.8900481540930979,\n",
       " 'auc': 0.9516329387381758,\n",
       " 'confusion_matrix': Columns:\n",
       " \ttarget_label\tstr\n",
       " \tpredicted_label\tstr\n",
       " \tcount\tint\n",
       " \n",
       " Rows: 4\n",
       " \n",
       " Data:\n",
       " +--------------+-----------------+-------+\n",
       " | target_label | predicted_label | count |\n",
       " +--------------+-----------------+-------+\n",
       " |   negative   |     positive    |  397  |\n",
       " |   positive   |     negative    |  699  |\n",
       " |   positive   |     positive    |  4249 |\n",
       " |   negative   |     negative    |  4623 |\n",
       " +--------------+-----------------+-------+\n",
       " [4 rows x 3 columns],\n",
       " 'f1_score': 0.8857619345424222,\n",
       " 'log_loss': 0.3637713803909529,\n",
       " 'precision': 0.9145501506672407,\n",
       " 'recall': 0.858730800323363,\n",
       " 'roc_curve': Columns:\n",
       " \tthreshold\tfloat\n",
       " \tfpr\tfloat\n",
       " \ttpr\tfloat\n",
       " \tp\tint\n",
       " \tn\tint\n",
       " \n",
       " Rows: 1001\n",
       " \n",
       " Data:\n",
       " +-----------+--------------------+-----+------+------+\n",
       " | threshold |        fpr         | tpr |  p   |  n   |\n",
       " +-----------+--------------------+-----+------+------+\n",
       " |    0.0    |        1.0         | 1.0 | 4948 | 5020 |\n",
       " |   0.001   | 0.9926294820717132 | 1.0 | 4948 | 5020 |\n",
       " |   0.002   | 0.9876494023904383 | 1.0 | 4948 | 5020 |\n",
       " |   0.003   | 0.9842629482071713 | 1.0 | 4948 | 5020 |\n",
       " |   0.004   | 0.9812749003984064 | 1.0 | 4948 | 5020 |\n",
       " |   0.005   | 0.9790836653386454 | 1.0 | 4948 | 5020 |\n",
       " |   0.006   | 0.9760956175298805 | 1.0 | 4948 | 5020 |\n",
       " |   0.007   | 0.9731075697211156 | 1.0 | 4948 | 5020 |\n",
       " |   0.008   | 0.9717131474103585 | 1.0 | 4948 | 5020 |\n",
       " |   0.009   | 0.9693227091633466 | 1.0 | 4948 | 5020 |\n",
       " +-----------+--------------------+-----+------+------+\n",
       " [1001 rows x 5 columns]\n",
       " Note: Only the head of the SFrame is printed.\n",
       " You can use print_rows(num_rows=m, num_columns=n) to print more rows and columns.}"
      ]
     },
     "execution_count": 13,
     "metadata": {},
     "output_type": "execute_result"
    }
   ],
   "source": [
    "model_2.evaluate(test)"
   ]
  },
  {
   "cell_type": "code",
   "execution_count": 14,
   "id": "56343415",
   "metadata": {},
   "outputs": [
    {
     "name": "stdout",
     "output_type": "stream",
     "text": [
      "PROGRESS: Creating a validation set from 5 percent of training data. This may take a while.\n",
      "          You can set ``validation_set=None`` to disable validation tracking.\n",
      "\n"
     ]
    },
    {
     "data": {
      "text/html": [
       "<pre>Logistic regression:</pre>"
      ],
      "text/plain": [
       "Logistic regression:"
      ]
     },
     "metadata": {},
     "output_type": "display_data"
    },
    {
     "data": {
      "text/html": [
       "<pre>--------------------------------------------------------</pre>"
      ],
      "text/plain": [
       "--------------------------------------------------------"
      ]
     },
     "metadata": {},
     "output_type": "display_data"
    },
    {
     "data": {
      "text/html": [
       "<pre>Number of examples          : 38030</pre>"
      ],
      "text/plain": [
       "Number of examples          : 38030"
      ]
     },
     "metadata": {},
     "output_type": "display_data"
    },
    {
     "data": {
      "text/html": [
       "<pre>Number of classes           : 2</pre>"
      ],
      "text/plain": [
       "Number of classes           : 2"
      ]
     },
     "metadata": {},
     "output_type": "display_data"
    },
    {
     "data": {
      "text/html": [
       "<pre>Number of feature columns   : 1</pre>"
      ],
      "text/plain": [
       "Number of feature columns   : 1"
      ]
     },
     "metadata": {},
     "output_type": "display_data"
    },
    {
     "data": {
      "text/html": [
       "<pre>Number of unpacked features : 92689</pre>"
      ],
      "text/plain": [
       "Number of unpacked features : 92689"
      ]
     },
     "metadata": {},
     "output_type": "display_data"
    },
    {
     "data": {
      "text/html": [
       "<pre>Number of coefficients      : 92690</pre>"
      ],
      "text/plain": [
       "Number of coefficients      : 92690"
      ]
     },
     "metadata": {},
     "output_type": "display_data"
    },
    {
     "data": {
      "text/html": [
       "<pre>Starting Accelerated Gradient (FISTA)</pre>"
      ],
      "text/plain": [
       "Starting Accelerated Gradient (FISTA)"
      ]
     },
     "metadata": {},
     "output_type": "display_data"
    },
    {
     "data": {
      "text/html": [
       "<pre>--------------------------------------------------------</pre>"
      ],
      "text/plain": [
       "--------------------------------------------------------"
      ]
     },
     "metadata": {},
     "output_type": "display_data"
    },
    {
     "data": {
      "text/html": [
       "<pre>Tuning step size. First iteration could take longer than subsequent iterations.</pre>"
      ],
      "text/plain": [
       "Tuning step size. First iteration could take longer than subsequent iterations."
      ]
     },
     "metadata": {},
     "output_type": "display_data"
    },
    {
     "data": {
      "text/html": [
       "<pre>+-----------+----------+-----------+--------------+-------------------+---------------------+</pre>"
      ],
      "text/plain": [
       "+-----------+----------+-----------+--------------+-------------------+---------------------+"
      ]
     },
     "metadata": {},
     "output_type": "display_data"
    },
    {
     "data": {
      "text/html": [
       "<pre>| Iteration | Passes   | Step size | Elapsed Time | Training Accuracy | Validation Accuracy |</pre>"
      ],
      "text/plain": [
       "| Iteration | Passes   | Step size | Elapsed Time | Training Accuracy | Validation Accuracy |"
      ]
     },
     "metadata": {},
     "output_type": "display_data"
    },
    {
     "data": {
      "text/html": [
       "<pre>+-----------+----------+-----------+--------------+-------------------+---------------------+</pre>"
      ],
      "text/plain": [
       "+-----------+----------+-----------+--------------+-------------------+---------------------+"
      ]
     },
     "metadata": {},
     "output_type": "display_data"
    },
    {
     "data": {
      "text/html": [
       "<pre>| 0         | 1        | 1.000000  | 0.048121     | 0.501341          | 0.492507            |</pre>"
      ],
      "text/plain": [
       "| 0         | 1        | 1.000000  | 0.048121     | 0.501341          | 0.492507            |"
      ]
     },
     "metadata": {},
     "output_type": "display_data"
    },
    {
     "data": {
      "text/html": [
       "<pre>| 1         | 2        | 0.000008  | 1.346919     | 0.926611          | 0.863636            |</pre>"
      ],
      "text/plain": [
       "| 1         | 2        | 0.000008  | 1.346919     | 0.926611          | 0.863636            |"
      ]
     },
     "metadata": {},
     "output_type": "display_data"
    },
    {
     "data": {
      "text/html": [
       "<pre>| 2         | 3        | 0.000008  | 1.463019     | 0.954536          | 0.881618            |</pre>"
      ],
      "text/plain": [
       "| 2         | 3        | 0.000008  | 1.463019     | 0.954536          | 0.881618            |"
      ]
     },
     "metadata": {},
     "output_type": "display_data"
    },
    {
     "data": {
      "text/html": [
       "<pre>| 3         | 4        | 0.000003  | 1.656770     | 0.969261          | 0.882118            |</pre>"
      ],
      "text/plain": [
       "| 3         | 4        | 0.000003  | 1.656770     | 0.969261          | 0.882118            |"
      ]
     },
     "metadata": {},
     "output_type": "display_data"
    },
    {
     "data": {
      "text/html": [
       "<pre>| 4         | 5        | 0.000002  | 1.819782     | 0.974415          | 0.891608            |</pre>"
      ],
      "text/plain": [
       "| 4         | 5        | 0.000002  | 1.819782     | 0.974415          | 0.891608            |"
      ]
     },
     "metadata": {},
     "output_type": "display_data"
    },
    {
     "data": {
      "text/html": [
       "<pre>+-----------+----------+-----------+--------------+-------------------+---------------------+</pre>"
      ],
      "text/plain": [
       "+-----------+----------+-----------+--------------+-------------------+---------------------+"
      ]
     },
     "metadata": {},
     "output_type": "display_data"
    },
    {
     "data": {
      "text/html": [
       "<pre>SUCCESS: Optimal solution found.</pre>"
      ],
      "text/plain": [
       "SUCCESS: Optimal solution found."
      ]
     },
     "metadata": {},
     "output_type": "display_data"
    },
    {
     "data": {
      "text/html": [
       "<pre></pre>"
      ],
      "text/plain": []
     },
     "metadata": {},
     "output_type": "display_data"
    }
   ],
   "source": [
    "model_3 = tc.logistic_classifier.create(train, features=['words'], target='sentiment', l1_penalty = 0.1, l2_penalty = 0.01)"
   ]
  },
  {
   "cell_type": "code",
   "execution_count": 15,
   "id": "025d5851",
   "metadata": {},
   "outputs": [
    {
     "data": {
      "text/plain": [
       "Class                          : LogisticClassifier\n",
       "\n",
       "Schema\n",
       "------\n",
       "Number of coefficients         : 92690\n",
       "Number of examples             : 38030\n",
       "Number of classes              : 2\n",
       "Number of feature columns      : 1\n",
       "Number of unpacked features    : 92689\n",
       "\n",
       "Hyperparameters\n",
       "---------------\n",
       "L1 penalty                     : 0.1\n",
       "L2 penalty                     : 0.01\n",
       "\n",
       "Training Summary\n",
       "----------------\n",
       "Solver                         : fista\n",
       "Solver iterations              : 4\n",
       "Solver status                  : SUCCESS: Optimal solution found.\n",
       "Training time (sec)            : 1.8557\n",
       "\n",
       "Settings\n",
       "--------\n",
       "Log-likelihood                 : 8604.2527\n",
       "\n",
       "Highest Positive Coefficients\n",
       "-----------------------------\n",
       "words[whirry]                  : 0.7279\n",
       "words[nighteyes]               : 0.7279\n",
       "words[videozone]               : 0.7172\n",
       "words[midichlorians]           : 0.7089\n",
       "words[conaughey]               : 0.6951\n",
       "\n",
       "Lowest Negative Coefficients\n",
       "----------------------------\n",
       "words[milwaulkee]              : -0.6888\n",
       "words[punctuality]             : -0.6785\n",
       "words[dramatism]               : -0.6785\n",
       "words[charmian]                : -0.6434\n",
       "words[unfortuntately]          : -0.6418"
      ]
     },
     "execution_count": 15,
     "metadata": {},
     "output_type": "execute_result"
    }
   ],
   "source": [
    "model_3"
   ]
  },
  {
   "cell_type": "code",
   "execution_count": 16,
   "id": "c0636ce9",
   "metadata": {},
   "outputs": [
    {
     "data": {
      "text/plain": [
       "{'accuracy': 0.8921548956661316,\n",
       " 'auc': 0.9509631643192781,\n",
       " 'confusion_matrix': Columns:\n",
       " \ttarget_label\tstr\n",
       " \tpredicted_label\tstr\n",
       " \tcount\tint\n",
       " \n",
       " Rows: 4\n",
       " \n",
       " Data:\n",
       " +--------------+-----------------+-------+\n",
       " | target_label | predicted_label | count |\n",
       " +--------------+-----------------+-------+\n",
       " |   negative   |     positive    |  537  |\n",
       " |   positive   |     negative    |  538  |\n",
       " |   positive   |     positive    |  4410 |\n",
       " |   negative   |     negative    |  4483 |\n",
       " +--------------+-----------------+-------+\n",
       " [4 rows x 3 columns],\n",
       " 'f1_score': 0.8913592723597777,\n",
       " 'log_loss': 0.3659634052026425,\n",
       " 'precision': 0.8914493632504549,\n",
       " 'recall': 0.891269199676637,\n",
       " 'roc_curve': Columns:\n",
       " \tthreshold\tfloat\n",
       " \tfpr\tfloat\n",
       " \ttpr\tfloat\n",
       " \tp\tint\n",
       " \tn\tint\n",
       " \n",
       " Rows: 1001\n",
       " \n",
       " Data:\n",
       " +-----------+--------------------+-----+------+------+\n",
       " | threshold |        fpr         | tpr |  p   |  n   |\n",
       " +-----------+--------------------+-----+------+------+\n",
       " |    0.0    |        1.0         | 1.0 | 4948 | 5020 |\n",
       " |   0.001   | 0.9948207171314741 | 1.0 | 4948 | 5020 |\n",
       " |   0.002   | 0.9920318725099602 | 1.0 | 4948 | 5020 |\n",
       " |   0.003   | 0.9886454183266933 | 1.0 | 4948 | 5020 |\n",
       " |   0.004   | 0.9862549800796813 | 1.0 | 4948 | 5020 |\n",
       " |   0.005   | 0.9844621513944223 | 1.0 | 4948 | 5020 |\n",
       " |   0.006   | 0.9826693227091633 | 1.0 | 4948 | 5020 |\n",
       " |   0.007   | 0.9812749003984064 | 1.0 | 4948 | 5020 |\n",
       " |   0.008   | 0.9782868525896414 | 1.0 | 4948 | 5020 |\n",
       " |   0.009   | 0.9764940239043824 | 1.0 | 4948 | 5020 |\n",
       " +-----------+--------------------+-----+------+------+\n",
       " [1001 rows x 5 columns]\n",
       " Note: Only the head of the SFrame is printed.\n",
       " You can use print_rows(num_rows=m, num_columns=n) to print more rows and columns.}"
      ]
     },
     "execution_count": 16,
     "metadata": {},
     "output_type": "execute_result"
    }
   ],
   "source": [
    "model_3.evaluate(test)"
   ]
  },
  {
   "cell_type": "code",
   "execution_count": 17,
   "id": "fb35d10d",
   "metadata": {},
   "outputs": [
    {
     "name": "stdout",
     "output_type": "stream",
     "text": [
      "PROGRESS: Creating a validation set from 5 percent of training data. This may take a while.\n",
      "          You can set ``validation_set=None`` to disable validation tracking.\n",
      "\n"
     ]
    },
    {
     "data": {
      "text/html": [
       "<pre>Logistic regression:</pre>"
      ],
      "text/plain": [
       "Logistic regression:"
      ]
     },
     "metadata": {},
     "output_type": "display_data"
    },
    {
     "data": {
      "text/html": [
       "<pre>--------------------------------------------------------</pre>"
      ],
      "text/plain": [
       "--------------------------------------------------------"
      ]
     },
     "metadata": {},
     "output_type": "display_data"
    },
    {
     "data": {
      "text/html": [
       "<pre>Number of examples          : 38030</pre>"
      ],
      "text/plain": [
       "Number of examples          : 38030"
      ]
     },
     "metadata": {},
     "output_type": "display_data"
    },
    {
     "data": {
      "text/html": [
       "<pre>Number of classes           : 2</pre>"
      ],
      "text/plain": [
       "Number of classes           : 2"
      ]
     },
     "metadata": {},
     "output_type": "display_data"
    },
    {
     "data": {
      "text/html": [
       "<pre>Number of feature columns   : 1</pre>"
      ],
      "text/plain": [
       "Number of feature columns   : 1"
      ]
     },
     "metadata": {},
     "output_type": "display_data"
    },
    {
     "data": {
      "text/html": [
       "<pre>Number of unpacked features : 92722</pre>"
      ],
      "text/plain": [
       "Number of unpacked features : 92722"
      ]
     },
     "metadata": {},
     "output_type": "display_data"
    },
    {
     "data": {
      "text/html": [
       "<pre>Number of coefficients      : 92723</pre>"
      ],
      "text/plain": [
       "Number of coefficients      : 92723"
      ]
     },
     "metadata": {},
     "output_type": "display_data"
    },
    {
     "data": {
      "text/html": [
       "<pre>Starting L-BFGS</pre>"
      ],
      "text/plain": [
       "Starting L-BFGS"
      ]
     },
     "metadata": {},
     "output_type": "display_data"
    },
    {
     "data": {
      "text/html": [
       "<pre>--------------------------------------------------------</pre>"
      ],
      "text/plain": [
       "--------------------------------------------------------"
      ]
     },
     "metadata": {},
     "output_type": "display_data"
    },
    {
     "data": {
      "text/html": [
       "<pre>+-----------+----------+-----------+--------------+-------------------+---------------------+</pre>"
      ],
      "text/plain": [
       "+-----------+----------+-----------+--------------+-------------------+---------------------+"
      ]
     },
     "metadata": {},
     "output_type": "display_data"
    },
    {
     "data": {
      "text/html": [
       "<pre>| Iteration | Passes   | Step size | Elapsed Time | Training Accuracy | Validation Accuracy |</pre>"
      ],
      "text/plain": [
       "| Iteration | Passes   | Step size | Elapsed Time | Training Accuracy | Validation Accuracy |"
      ]
     },
     "metadata": {},
     "output_type": "display_data"
    },
    {
     "data": {
      "text/html": [
       "<pre>+-----------+----------+-----------+--------------+-------------------+---------------------+</pre>"
      ],
      "text/plain": [
       "+-----------+----------+-----------+--------------+-------------------+---------------------+"
      ]
     },
     "metadata": {},
     "output_type": "display_data"
    },
    {
     "data": {
      "text/html": [
       "<pre>| 0         | 2        | 1.000000  | 0.100763     | 0.924638          | 0.860639            |</pre>"
      ],
      "text/plain": [
       "| 0         | 2        | 1.000000  | 0.100763     | 0.924638          | 0.860639            |"
      ]
     },
     "metadata": {},
     "output_type": "display_data"
    },
    {
     "data": {
      "text/html": [
       "<pre>| 1         | 4        | 1.000000  | 0.223625     | 0.960005          | 0.870629            |</pre>"
      ],
      "text/plain": [
       "| 1         | 4        | 1.000000  | 0.223625     | 0.960005          | 0.870629            |"
      ]
     },
     "metadata": {},
     "output_type": "display_data"
    },
    {
     "data": {
      "text/html": [
       "<pre>| 2         | 6        | 1.000000  | 0.341523     | 0.982672          | 0.899600            |</pre>"
      ],
      "text/plain": [
       "| 2         | 6        | 1.000000  | 0.341523     | 0.982672          | 0.899600            |"
      ]
     },
     "metadata": {},
     "output_type": "display_data"
    },
    {
     "data": {
      "text/html": [
       "<pre>| 3         | 7        | 1.000000  | 0.419503     | 0.986090          | 0.897103            |</pre>"
      ],
      "text/plain": [
       "| 3         | 7        | 1.000000  | 0.419503     | 0.986090          | 0.897103            |"
      ]
     },
     "metadata": {},
     "output_type": "display_data"
    },
    {
     "data": {
      "text/html": [
       "<pre>| 4         | 9        | 1.000000  | 0.544587     | 0.994899          | 0.898102            |</pre>"
      ],
      "text/plain": [
       "| 4         | 9        | 1.000000  | 0.544587     | 0.994899          | 0.898102            |"
      ]
     },
     "metadata": {},
     "output_type": "display_data"
    },
    {
     "data": {
      "text/html": [
       "<pre>| 9         | 14       | 1.000000  | 0.957489     | 0.999947          | 0.866134            |</pre>"
      ],
      "text/plain": [
       "| 9         | 14       | 1.000000  | 0.957489     | 0.999947          | 0.866134            |"
      ]
     },
     "metadata": {},
     "output_type": "display_data"
    },
    {
     "data": {
      "text/html": [
       "<pre>+-----------+----------+-----------+--------------+-------------------+---------------------+</pre>"
      ],
      "text/plain": [
       "+-----------+----------+-----------+--------------+-------------------+---------------------+"
      ]
     },
     "metadata": {},
     "output_type": "display_data"
    }
   ],
   "source": [
    "model_4 = tc.logistic_classifier.create(train, features=['words'], target='sentiment', l1_penalty = 0.0, l2_penalty = 0.001)"
   ]
  },
  {
   "cell_type": "code",
   "execution_count": 18,
   "id": "669109a6",
   "metadata": {},
   "outputs": [
    {
     "data": {
      "text/plain": [
       "Class                          : LogisticClassifier\n",
       "\n",
       "Schema\n",
       "------\n",
       "Number of coefficients         : 92723\n",
       "Number of examples             : 38030\n",
       "Number of classes              : 2\n",
       "Number of feature columns      : 1\n",
       "Number of unpacked features    : 92722\n",
       "\n",
       "Hyperparameters\n",
       "---------------\n",
       "L1 penalty                     : 0.0\n",
       "L2 penalty                     : 0.001\n",
       "\n",
       "Training Summary\n",
       "----------------\n",
       "Solver                         : lbfgs\n",
       "Solver iterations              : 10\n",
       "Solver status                  : Completed (Iteration limit reached).\n",
       "Training time (sec)            : 0.6158\n",
       "\n",
       "Settings\n",
       "--------\n",
       "Log-likelihood                 : 156.2673\n",
       "\n",
       "Highest Positive Coefficients\n",
       "-----------------------------\n",
       "words[sebald]                  : 64.0062\n",
       "words[rowers]                  : 53.1159\n",
       "words[4w]                      : 53.1159\n",
       "words[4m]                      : 53.1159\n",
       "words[269]                     : 53.1159\n",
       "\n",
       "Lowest Negative Coefficients\n",
       "----------------------------\n",
       "words[annotation]              : -61.4148\n",
       "words[60mph]                   : -26.6692\n",
       "words[wisconson]               : -20.6699\n",
       "words[milwaulkee]              : -20.6699\n",
       "words[1874]                    : -20.4632"
      ]
     },
     "execution_count": 18,
     "metadata": {},
     "output_type": "execute_result"
    }
   ],
   "source": [
    "model_4"
   ]
  },
  {
   "cell_type": "code",
   "execution_count": 19,
   "id": "bbbce828",
   "metadata": {},
   "outputs": [
    {
     "data": {
      "text/plain": [
       "{'accuracy': 0.8633627608346709,\n",
       " 'auc': 0.9162254780393366,\n",
       " 'confusion_matrix': Columns:\n",
       " \ttarget_label\tstr\n",
       " \tpredicted_label\tstr\n",
       " \tcount\tint\n",
       " \n",
       " Rows: 4\n",
       " \n",
       " Data:\n",
       " +--------------+-----------------+-------+\n",
       " | target_label | predicted_label | count |\n",
       " +--------------+-----------------+-------+\n",
       " |   negative   |     positive    |  632  |\n",
       " |   positive   |     positive    |  4218 |\n",
       " |   positive   |     negative    |  730  |\n",
       " |   negative   |     negative    |  4388 |\n",
       " +--------------+-----------------+-------+\n",
       " [4 rows x 3 columns],\n",
       " 'f1_score': 0.8609920391916718,\n",
       " 'log_loss': 0.666874771509709,\n",
       " 'precision': 0.8696907216494846,\n",
       " 'recall': 0.8524656426839127,\n",
       " 'roc_curve': Columns:\n",
       " \tthreshold\tfloat\n",
       " \tfpr\tfloat\n",
       " \ttpr\tfloat\n",
       " \tp\tint\n",
       " \tn\tint\n",
       " \n",
       " Rows: 1001\n",
       " \n",
       " Data:\n",
       " +-----------+---------------------+--------------------+------+------+\n",
       " | threshold |         fpr         |        tpr         |  p   |  n   |\n",
       " +-----------+---------------------+--------------------+------+------+\n",
       " |    0.0    |         1.0         |        1.0         | 4948 | 5020 |\n",
       " |   0.001   |  0.4545816733067729 | 0.9640258690379951 | 4948 | 5020 |\n",
       " |   0.002   | 0.41733067729083667 | 0.957962813257882  | 4948 | 5020 |\n",
       " |   0.003   |  0.3938247011952191 | 0.9545270816491511 | 4948 | 5020 |\n",
       " |   0.004   | 0.37649402390438247 | 0.9529102667744543 | 4948 | 5020 |\n",
       " |   0.005   | 0.36294820717131476 | 0.9514955537590946 | 4948 | 5020 |\n",
       " |   0.006   |  0.3541832669322709 | 0.9500808407437349 | 4948 | 5020 |\n",
       " |   0.007   |  0.3458167330677291 | 0.9492724333063864 | 4948 | 5020 |\n",
       " |   0.008   | 0.33844621513944223 | 0.9468472109943411 | 4948 | 5020 |\n",
       " |   0.009   |  0.3322709163346614 | 0.9458367016976557 | 4948 | 5020 |\n",
       " +-----------+---------------------+--------------------+------+------+\n",
       " [1001 rows x 5 columns]\n",
       " Note: Only the head of the SFrame is printed.\n",
       " You can use print_rows(num_rows=m, num_columns=n) to print more rows and columns.}"
      ]
     },
     "execution_count": 19,
     "metadata": {},
     "output_type": "execute_result"
    }
   ],
   "source": [
    "model_4.evaluate(test)"
   ]
  },
  {
   "cell_type": "code",
   "execution_count": 20,
   "id": "f3b5fc08",
   "metadata": {},
   "outputs": [
    {
     "name": "stdout",
     "output_type": "stream",
     "text": [
      "PROGRESS: Creating a validation set from 5 percent of training data. This may take a while.\n",
      "          You can set ``validation_set=None`` to disable validation tracking.\n",
      "\n"
     ]
    },
    {
     "data": {
      "text/html": [
       "<pre>Logistic regression:</pre>"
      ],
      "text/plain": [
       "Logistic regression:"
      ]
     },
     "metadata": {},
     "output_type": "display_data"
    },
    {
     "data": {
      "text/html": [
       "<pre>--------------------------------------------------------</pre>"
      ],
      "text/plain": [
       "--------------------------------------------------------"
      ]
     },
     "metadata": {},
     "output_type": "display_data"
    },
    {
     "data": {
      "text/html": [
       "<pre>Number of examples          : 38030</pre>"
      ],
      "text/plain": [
       "Number of examples          : 38030"
      ]
     },
     "metadata": {},
     "output_type": "display_data"
    },
    {
     "data": {
      "text/html": [
       "<pre>Number of classes           : 2</pre>"
      ],
      "text/plain": [
       "Number of classes           : 2"
      ]
     },
     "metadata": {},
     "output_type": "display_data"
    },
    {
     "data": {
      "text/html": [
       "<pre>Number of feature columns   : 1</pre>"
      ],
      "text/plain": [
       "Number of feature columns   : 1"
      ]
     },
     "metadata": {},
     "output_type": "display_data"
    },
    {
     "data": {
      "text/html": [
       "<pre>Number of unpacked features : 92691</pre>"
      ],
      "text/plain": [
       "Number of unpacked features : 92691"
      ]
     },
     "metadata": {},
     "output_type": "display_data"
    },
    {
     "data": {
      "text/html": [
       "<pre>Number of coefficients      : 92692</pre>"
      ],
      "text/plain": [
       "Number of coefficients      : 92692"
      ]
     },
     "metadata": {},
     "output_type": "display_data"
    },
    {
     "data": {
      "text/html": [
       "<pre>Starting Accelerated Gradient (FISTA)</pre>"
      ],
      "text/plain": [
       "Starting Accelerated Gradient (FISTA)"
      ]
     },
     "metadata": {},
     "output_type": "display_data"
    },
    {
     "data": {
      "text/html": [
       "<pre>--------------------------------------------------------</pre>"
      ],
      "text/plain": [
       "--------------------------------------------------------"
      ]
     },
     "metadata": {},
     "output_type": "display_data"
    },
    {
     "data": {
      "text/html": [
       "<pre>Tuning step size. First iteration could take longer than subsequent iterations.</pre>"
      ],
      "text/plain": [
       "Tuning step size. First iteration could take longer than subsequent iterations."
      ]
     },
     "metadata": {},
     "output_type": "display_data"
    },
    {
     "data": {
      "text/html": [
       "<pre>+-----------+----------+-----------+--------------+-------------------+---------------------+</pre>"
      ],
      "text/plain": [
       "+-----------+----------+-----------+--------------+-------------------+---------------------+"
      ]
     },
     "metadata": {},
     "output_type": "display_data"
    },
    {
     "data": {
      "text/html": [
       "<pre>| Iteration | Passes   | Step size | Elapsed Time | Training Accuracy | Validation Accuracy |</pre>"
      ],
      "text/plain": [
       "| Iteration | Passes   | Step size | Elapsed Time | Training Accuracy | Validation Accuracy |"
      ]
     },
     "metadata": {},
     "output_type": "display_data"
    },
    {
     "data": {
      "text/html": [
       "<pre>+-----------+----------+-----------+--------------+-------------------+---------------------+</pre>"
      ],
      "text/plain": [
       "+-----------+----------+-----------+--------------+-------------------+---------------------+"
      ]
     },
     "metadata": {},
     "output_type": "display_data"
    },
    {
     "data": {
      "text/html": [
       "<pre>| 0         | 1        | 1.000000  | 0.062505     | 0.501183          | 0.495504            |</pre>"
      ],
      "text/plain": [
       "| 0         | 1        | 1.000000  | 0.062505     | 0.501183          | 0.495504            |"
      ]
     },
     "metadata": {},
     "output_type": "display_data"
    },
    {
     "data": {
      "text/html": [
       "<pre>| 1         | 2        | 0.000008  | 1.383256     | 0.926164          | 0.855644            |</pre>"
      ],
      "text/plain": [
       "| 1         | 2        | 0.000008  | 1.383256     | 0.926164          | 0.855644            |"
      ]
     },
     "metadata": {},
     "output_type": "display_data"
    },
    {
     "data": {
      "text/html": [
       "<pre>| 2         | 3        | 0.000008  | 1.501335     | 0.952485          | 0.873626            |</pre>"
      ],
      "text/plain": [
       "| 2         | 3        | 0.000008  | 1.501335     | 0.952485          | 0.873626            |"
      ]
     },
     "metadata": {},
     "output_type": "display_data"
    },
    {
     "data": {
      "text/html": [
       "<pre>| 3         | 4        | 0.000002  | 1.750219     | 0.970392          | 0.882617            |</pre>"
      ],
      "text/plain": [
       "| 3         | 4        | 0.000002  | 1.750219     | 0.970392          | 0.882617            |"
      ]
     },
     "metadata": {},
     "output_type": "display_data"
    },
    {
     "data": {
      "text/html": [
       "<pre>+-----------+----------+-----------+--------------+-------------------+---------------------+</pre>"
      ],
      "text/plain": [
       "+-----------+----------+-----------+--------------+-------------------+---------------------+"
      ]
     },
     "metadata": {},
     "output_type": "display_data"
    },
    {
     "data": {
      "text/html": [
       "<pre>SUCCESS: Optimal solution found.</pre>"
      ],
      "text/plain": [
       "SUCCESS: Optimal solution found."
      ]
     },
     "metadata": {},
     "output_type": "display_data"
    },
    {
     "data": {
      "text/html": [
       "<pre></pre>"
      ],
      "text/plain": []
     },
     "metadata": {},
     "output_type": "display_data"
    }
   ],
   "source": [
    "model_5 = tc.logistic_classifier.create(train, features=['words'], target='sentiment', l1_penalty = 1.0, l2_penalty = 1.0)"
   ]
  },
  {
   "cell_type": "code",
   "execution_count": 21,
   "id": "21483110",
   "metadata": {},
   "outputs": [
    {
     "data": {
      "text/plain": [
       "Class                          : LogisticClassifier\n",
       "\n",
       "Schema\n",
       "------\n",
       "Number of coefficients         : 92692\n",
       "Number of examples             : 38030\n",
       "Number of classes              : 2\n",
       "Number of feature columns      : 1\n",
       "Number of unpacked features    : 92691\n",
       "\n",
       "Hyperparameters\n",
       "---------------\n",
       "L1 penalty                     : 1.0\n",
       "L2 penalty                     : 1.0\n",
       "\n",
       "Training Summary\n",
       "----------------\n",
       "Solver                         : fista\n",
       "Solver iterations              : 3\n",
       "Solver status                  : SUCCESS: Optimal solution found.\n",
       "Training time (sec)            : 1.7872\n",
       "\n",
       "Settings\n",
       "--------\n",
       "Log-likelihood                 : 9756.4552\n",
       "\n",
       "Highest Positive Coefficients\n",
       "-----------------------------\n",
       "words[midichlorians]           : 0.5584\n",
       "words[whirry]                  : 0.5496\n",
       "words[nighteyes]               : 0.5496\n",
       "words[videozone]               : 0.5453\n",
       "words[desensitizing]           : 0.5392\n",
       "\n",
       "Lowest Negative Coefficients\n",
       "----------------------------\n",
       "words[echt]                    : -0.5428\n",
       "words[punctuality]             : -0.5189\n",
       "words[dramatism]               : -0.5189\n",
       "words[milwaulkee]              : -0.5183\n",
       "words[1874]                    : -0.5141"
      ]
     },
     "execution_count": 21,
     "metadata": {},
     "output_type": "execute_result"
    }
   ],
   "source": [
    "model_5"
   ]
  },
  {
   "cell_type": "code",
   "execution_count": 22,
   "id": "cc8c13e9",
   "metadata": {},
   "outputs": [
    {
     "data": {
      "text/plain": [
       "{'accuracy': 0.8877407704654896,\n",
       " 'auc': 0.9475743750946096,\n",
       " 'confusion_matrix': Columns:\n",
       " \ttarget_label\tstr\n",
       " \tpredicted_label\tstr\n",
       " \tcount\tint\n",
       " \n",
       " Rows: 4\n",
       " \n",
       " Data:\n",
       " +--------------+-----------------+-------+\n",
       " | target_label | predicted_label | count |\n",
       " +--------------+-----------------+-------+\n",
       " |   negative   |     positive    |  640  |\n",
       " |   positive   |     negative    |  479  |\n",
       " |   positive   |     positive    |  4469 |\n",
       " |   negative   |     negative    |  4380 |\n",
       " +--------------+-----------------+-------+\n",
       " [4 rows x 3 columns],\n",
       " 'f1_score': 0.8887342149746444,\n",
       " 'log_loss': 0.38630404598645984,\n",
       " 'precision': 0.8747308670972793,\n",
       " 'recall': 0.9031932093775262,\n",
       " 'roc_curve': Columns:\n",
       " \tthreshold\tfloat\n",
       " \tfpr\tfloat\n",
       " \ttpr\tfloat\n",
       " \tp\tint\n",
       " \tn\tint\n",
       " \n",
       " Rows: 1001\n",
       " \n",
       " Data:\n",
       " +-----------+--------------------+-----+------+------+\n",
       " | threshold |        fpr         | tpr |  p   |  n   |\n",
       " +-----------+--------------------+-----+------+------+\n",
       " |    0.0    |        1.0         | 1.0 | 4948 | 5020 |\n",
       " |   0.001   | 0.998804780876494  | 1.0 | 4948 | 5020 |\n",
       " |   0.002   | 0.9966135458167331 | 1.0 | 4948 | 5020 |\n",
       " |   0.003   | 0.9944223107569721 | 1.0 | 4948 | 5020 |\n",
       " |   0.004   | 0.9926294820717132 | 1.0 | 4948 | 5020 |\n",
       " |   0.005   | 0.9914342629482071 | 1.0 | 4948 | 5020 |\n",
       " |   0.006   | 0.9894422310756972 | 1.0 | 4948 | 5020 |\n",
       " |   0.007   | 0.9882470119521912 | 1.0 | 4948 | 5020 |\n",
       " |   0.008   | 0.9876494023904383 | 1.0 | 4948 | 5020 |\n",
       " |   0.009   | 0.9866533864541832 | 1.0 | 4948 | 5020 |\n",
       " +-----------+--------------------+-----+------+------+\n",
       " [1001 rows x 5 columns]\n",
       " Note: Only the head of the SFrame is printed.\n",
       " You can use print_rows(num_rows=m, num_columns=n) to print more rows and columns.}"
      ]
     },
     "execution_count": 22,
     "metadata": {},
     "output_type": "execute_result"
    }
   ],
   "source": [
    "model_5.evaluate(test)"
   ]
  },
  {
   "cell_type": "code",
   "execution_count": 23,
   "id": "8539ad22",
   "metadata": {},
   "outputs": [
    {
     "name": "stdout",
     "output_type": "stream",
     "text": [
      "PROGRESS: Creating a validation set from 5 percent of training data. This may take a while.\n",
      "          You can set ``validation_set=None`` to disable validation tracking.\n",
      "\n"
     ]
    },
    {
     "data": {
      "text/html": [
       "<pre>Logistic regression:</pre>"
      ],
      "text/plain": [
       "Logistic regression:"
      ]
     },
     "metadata": {},
     "output_type": "display_data"
    },
    {
     "data": {
      "text/html": [
       "<pre>--------------------------------------------------------</pre>"
      ],
      "text/plain": [
       "--------------------------------------------------------"
      ]
     },
     "metadata": {},
     "output_type": "display_data"
    },
    {
     "data": {
      "text/html": [
       "<pre>Number of examples          : 38030</pre>"
      ],
      "text/plain": [
       "Number of examples          : 38030"
      ]
     },
     "metadata": {},
     "output_type": "display_data"
    },
    {
     "data": {
      "text/html": [
       "<pre>Number of classes           : 2</pre>"
      ],
      "text/plain": [
       "Number of classes           : 2"
      ]
     },
     "metadata": {},
     "output_type": "display_data"
    },
    {
     "data": {
      "text/html": [
       "<pre>Number of feature columns   : 1</pre>"
      ],
      "text/plain": [
       "Number of feature columns   : 1"
      ]
     },
     "metadata": {},
     "output_type": "display_data"
    },
    {
     "data": {
      "text/html": [
       "<pre>Number of unpacked features : 92585</pre>"
      ],
      "text/plain": [
       "Number of unpacked features : 92585"
      ]
     },
     "metadata": {},
     "output_type": "display_data"
    },
    {
     "data": {
      "text/html": [
       "<pre>Number of coefficients      : 92586</pre>"
      ],
      "text/plain": [
       "Number of coefficients      : 92586"
      ]
     },
     "metadata": {},
     "output_type": "display_data"
    },
    {
     "data": {
      "text/html": [
       "<pre>Starting L-BFGS</pre>"
      ],
      "text/plain": [
       "Starting L-BFGS"
      ]
     },
     "metadata": {},
     "output_type": "display_data"
    },
    {
     "data": {
      "text/html": [
       "<pre>--------------------------------------------------------</pre>"
      ],
      "text/plain": [
       "--------------------------------------------------------"
      ]
     },
     "metadata": {},
     "output_type": "display_data"
    },
    {
     "data": {
      "text/html": [
       "<pre>+-----------+----------+-----------+--------------+-------------------+---------------------+</pre>"
      ],
      "text/plain": [
       "+-----------+----------+-----------+--------------+-------------------+---------------------+"
      ]
     },
     "metadata": {},
     "output_type": "display_data"
    },
    {
     "data": {
      "text/html": [
       "<pre>| Iteration | Passes   | Step size | Elapsed Time | Training Accuracy | Validation Accuracy |</pre>"
      ],
      "text/plain": [
       "| Iteration | Passes   | Step size | Elapsed Time | Training Accuracy | Validation Accuracy |"
      ]
     },
     "metadata": {},
     "output_type": "display_data"
    },
    {
     "data": {
      "text/html": [
       "<pre>+-----------+----------+-----------+--------------+-------------------+---------------------+</pre>"
      ],
      "text/plain": [
       "+-----------+----------+-----------+--------------+-------------------+---------------------+"
      ]
     },
     "metadata": {},
     "output_type": "display_data"
    },
    {
     "data": {
      "text/html": [
       "<pre>| 0         | 2        | 1.000000  | 0.106910     | 0.926874          | 0.854645            |</pre>"
      ],
      "text/plain": [
       "| 0         | 2        | 1.000000  | 0.106910     | 0.926874          | 0.854645            |"
      ]
     },
     "metadata": {},
     "output_type": "display_data"
    },
    {
     "data": {
      "text/html": [
       "<pre>| 1         | 4        | 1.000000  | 0.233888     | 0.974625          | 0.882617            |</pre>"
      ],
      "text/plain": [
       "| 1         | 4        | 1.000000  | 0.233888     | 0.974625          | 0.882617            |"
      ]
     },
     "metadata": {},
     "output_type": "display_data"
    },
    {
     "data": {
      "text/html": [
       "<pre>| 2         | 5        | 1.000000  | 0.312870     | 0.985853          | 0.880120            |</pre>"
      ],
      "text/plain": [
       "| 2         | 5        | 1.000000  | 0.312870     | 0.985853          | 0.880120            |"
      ]
     },
     "metadata": {},
     "output_type": "display_data"
    },
    {
     "data": {
      "text/html": [
       "<pre>| 3         | 6        | 1.000000  | 0.400256     | 0.992190          | 0.889610            |</pre>"
      ],
      "text/plain": [
       "| 3         | 6        | 1.000000  | 0.400256     | 0.992190          | 0.889610            |"
      ]
     },
     "metadata": {},
     "output_type": "display_data"
    },
    {
     "data": {
      "text/html": [
       "<pre>| 4         | 7        | 1.000000  | 0.486124     | 0.995162          | 0.897602            |</pre>"
      ],
      "text/plain": [
       "| 4         | 7        | 1.000000  | 0.486124     | 0.995162          | 0.897602            |"
      ]
     },
     "metadata": {},
     "output_type": "display_data"
    },
    {
     "data": {
      "text/html": [
       "<pre>| 9         | 12       | 1.000000  | 0.911034     | 0.999606          | 0.866134            |</pre>"
      ],
      "text/plain": [
       "| 9         | 12       | 1.000000  | 0.911034     | 0.999606          | 0.866134            |"
      ]
     },
     "metadata": {},
     "output_type": "display_data"
    },
    {
     "data": {
      "text/html": [
       "<pre>+-----------+----------+-----------+--------------+-------------------+---------------------+</pre>"
      ],
      "text/plain": [
       "+-----------+----------+-----------+--------------+-------------------+---------------------+"
      ]
     },
     "metadata": {},
     "output_type": "display_data"
    }
   ],
   "source": [
    "model_6 = tc.logistic_classifier.create(train, features=['words'], target='sentiment', l1_penalty = 0.0, l2_penalty = 1.0)"
   ]
  },
  {
   "cell_type": "code",
   "execution_count": 24,
   "id": "5af632f7",
   "metadata": {},
   "outputs": [
    {
     "data": {
      "text/plain": [
       "Class                          : LogisticClassifier\n",
       "\n",
       "Schema\n",
       "------\n",
       "Number of coefficients         : 92586\n",
       "Number of examples             : 38030\n",
       "Number of classes              : 2\n",
       "Number of feature columns      : 1\n",
       "Number of unpacked features    : 92585\n",
       "\n",
       "Hyperparameters\n",
       "---------------\n",
       "L1 penalty                     : 0.0\n",
       "L2 penalty                     : 1.0\n",
       "\n",
       "Training Summary\n",
       "----------------\n",
       "Solver                         : lbfgs\n",
       "Solver iterations              : 10\n",
       "Solver status                  : Completed (Iteration limit reached).\n",
       "Training time (sec)            : 0.5492\n",
       "\n",
       "Settings\n",
       "--------\n",
       "Log-likelihood                 : 193.5778\n",
       "\n",
       "Highest Positive Coefficients\n",
       "-----------------------------\n",
       "words[scribble]                : 32.8148\n",
       "words[videozone]               : 26.0495\n",
       "words[whirry]                  : 25.8822\n",
       "words[nighteyes]               : 25.8822\n",
       "words[midichlorians]           : 24.8454\n",
       "\n",
       "Lowest Negative Coefficients\n",
       "----------------------------\n",
       "words[hardiman]                : -25.4282\n",
       "words[enchantress]             : -24.3351\n",
       "words[untraditional]           : -23.6484\n",
       "words[whe]                     : -23.3417\n",
       "words[newlwed]                 : -23.3294"
      ]
     },
     "execution_count": 24,
     "metadata": {},
     "output_type": "execute_result"
    }
   ],
   "source": [
    "model_6"
   ]
  },
  {
   "cell_type": "code",
   "execution_count": 25,
   "id": "b0a4ae3b",
   "metadata": {},
   "outputs": [
    {
     "data": {
      "text/plain": [
       "{'accuracy': 0.8687800963081862,\n",
       " 'auc': 0.9233034313836003,\n",
       " 'confusion_matrix': Columns:\n",
       " \ttarget_label\tstr\n",
       " \tpredicted_label\tstr\n",
       " \tcount\tint\n",
       " \n",
       " Rows: 4\n",
       " \n",
       " Data:\n",
       " +--------------+-----------------+-------+\n",
       " | target_label | predicted_label | count |\n",
       " +--------------+-----------------+-------+\n",
       " |   negative   |     positive    |  680  |\n",
       " |   positive   |     positive    |  4320 |\n",
       " |   positive   |     negative    |  628  |\n",
       " |   negative   |     negative    |  4340 |\n",
       " +--------------+-----------------+-------+\n",
       " [4 rows x 3 columns],\n",
       " 'f1_score': 0.8685162846803378,\n",
       " 'log_loss': 0.5689002423422415,\n",
       " 'precision': 0.864,\n",
       " 'recall': 0.8730800323362975,\n",
       " 'roc_curve': Columns:\n",
       " \tthreshold\tfloat\n",
       " \tfpr\tfloat\n",
       " \ttpr\tfloat\n",
       " \tp\tint\n",
       " \tn\tint\n",
       " \n",
       " Rows: 1001\n",
       " \n",
       " Data:\n",
       " +-----------+---------------------+--------------------+------+------+\n",
       " | threshold |         fpr         |        tpr         |  p   |  n   |\n",
       " +-----------+---------------------+--------------------+------+------+\n",
       " |    0.0    |         1.0         |        1.0         | 4948 | 5020 |\n",
       " |   0.001   |  0.5193227091633467 | 0.9783751010509296 | 4948 | 5020 |\n",
       " |   0.002   | 0.47649402390438245 | 0.9741309620048505 | 4948 | 5020 |\n",
       " |   0.003   |  0.449601593625498  | 0.9700889248181084 | 4948 | 5020 |\n",
       " |   0.004   |  0.4302788844621514 | 0.9688763136620857 | 4948 | 5020 |\n",
       " |   0.005   |  0.4155378486055777 | 0.9670573969280517 | 4948 | 5020 |\n",
       " |   0.006   | 0.40219123505976095 | 0.9654405820533549 | 4948 | 5020 |\n",
       " |   0.007   |  0.3908366533864542 | 0.9650363783346807 | 4948 | 5020 |\n",
       " |   0.008   |  0.3826693227091634 | 0.9636216653193209 | 4948 | 5020 |\n",
       " |   0.009   | 0.37569721115537846 | 0.9630153597413096 | 4948 | 5020 |\n",
       " +-----------+---------------------+--------------------+------+------+\n",
       " [1001 rows x 5 columns]\n",
       " Note: Only the head of the SFrame is printed.\n",
       " You can use print_rows(num_rows=m, num_columns=n) to print more rows and columns.}"
      ]
     },
     "execution_count": 25,
     "metadata": {},
     "output_type": "execute_result"
    }
   ],
   "source": [
    "model_6.evaluate(test)"
   ]
  },
  {
   "cell_type": "markdown",
   "id": "d9e7fd33",
   "metadata": {},
   "source": [
    "_3h) Recording the accuracies:_\n",
    "\n",
    "\n",
    "| | L1 penalty| L2 penalty | Training accuracy | Validation accuracy | Testing accuracy | \n",
    "| --- | --- | --- | --- | --- | --- |\n",
    "| 0 | 0.0 | 0.01 | 0.999448 | 0.868132 | 0.869683 |\n",
    "| 1 | 0.0 | 0.0 | 0.999921 | 0.877123 | 0.867877 |\n",
    "| 2 | 0.1 | 0.0 | 0.973389 | 0.875624 | 0.890048 |\n",
    "| 3 | 0.1 | 0.01| 0.974415 | 0.891608 | 0.892155 |\n",
    "| 4 | 0.0 | 0.001 | 0.999947 | 0.866134 | 0.863363 |\n",
    "| 5 | 1.0 | 1.0 | 0.970392 | 0.882617 | 0.887741 | \n",
    "| 6 | 0.0 | 1.0 | 0.999606 | 0.866134 | 0.868780 | "
   ]
  },
  {
   "cell_type": "markdown",
   "id": "888b4954",
   "metadata": {},
   "source": [
    "_3i) The optimal choice of L1 and L2 penalties from the above recording would be_ _**(3) 0.1 and 0.01**_ _respectively. This is because the all three accuracies are fairly high. With high Training accuracy, the validation and testing accuracies are also relatively good for this regularisation. Even the number of epochs used to reach this accuracy was less as compared to most of the other models._   "
   ]
  },
  {
   "cell_type": "code",
   "execution_count": null,
   "id": "583efebb",
   "metadata": {},
   "outputs": [],
   "source": []
  }
 ],
 "metadata": {
  "kernelspec": {
   "display_name": "Python 3",
   "language": "python",
   "name": "python3"
  },
  "language_info": {
   "codemirror_mode": {
    "name": "ipython",
    "version": 3
   },
   "file_extension": ".py",
   "mimetype": "text/x-python",
   "name": "python",
   "nbconvert_exporter": "python",
   "pygments_lexer": "ipython3",
   "version": "3.8.8"
  }
 },
 "nbformat": 4,
 "nbformat_minor": 5
}
